{
 "cells": [
  {
   "cell_type": "markdown",
   "id": "308f7b60-0c23-4865-81d3-cfc2bfc1a170",
   "metadata": {
    "editable": true,
    "slideshow": {
     "slide_type": ""
    },
    "tags": []
   },
   "source": [
    "Source: https://data.humdata.org/dataset/satellite-detected-water-extent-over-jawa-tengah-province-indonesia-as-of-27-march-2024"
   ]
  },
  {
   "cell_type": "code",
   "execution_count": 10,
   "id": "0c14f20f-03f2-43da-8ba5-294931194ff4",
   "metadata": {
    "editable": true,
    "slideshow": {
     "slide_type": ""
    },
    "tags": []
   },
   "outputs": [],
   "source": [
    "import geopandas as gpd\n",
    "import pandas as pd\n",
    "import yaml\n",
    "from rasterio.crs import CRS\n",
    "from pathlib import Path\n",
    "import fiona"
   ]
  },
  {
   "cell_type": "code",
   "execution_count": 2,
   "id": "eb81041d-99b5-4d8e-9e5e-fb1aae7d184f",
   "metadata": {},
   "outputs": [
    {
     "data": {
      "text/plain": [
       "{'event_name': 'demak_flood_2024',\n",
       " 'bounds': [110.00054153, -7.10254596, 111.30352226, -6.68671509],\n",
       " 'event_date': '2024-03-15',\n",
       " 'pre_event_window_days': 100,\n",
       " 'post_event_window_days': 60,\n",
       " 'rtc_track_numbers': [76, 127],\n",
       " 'mgrs_tiles': ['49MDN', '49MEN'],\n",
       " 'dist_hls_confirmed_change_min_days': 30,\n",
       " 'source_id': 'UNOSAT via humanitarian data exchange and S1 optical',\n",
       " 'links': ['https://data.humdata.org/dataset/satellite-detected-water-extent-over-jawa-tengah-province-indonesia-as-of-27-march-2024 - multiple dates via S1',\n",
       "  'https://unosat.org/products/3810']}"
      ]
     },
     "execution_count": 2,
     "metadata": {},
     "output_type": "execute_result"
    }
   ],
   "source": [
    "yaml_file = '../events/demak_flood_2024.yml' #'porto_algre.yml'\n",
    "with open(yaml_file) as f:\n",
    "    event_dict = yaml.safe_load(f)[\"event\"]\n",
    "event_dict"
   ]
  },
  {
   "cell_type": "code",
   "execution_count": 12,
   "id": "469bb6e3-d547-4204-b431-abf02ee1a265",
   "metadata": {},
   "outputs": [
    {
     "data": {
      "text/plain": [
       "['S1_20240315_FloodExtent_Demak',\n",
       " 'Confidence_ID',\n",
       " 'Water_StatusID',\n",
       " 'Water_Class',\n",
       " 'Field_Validation',\n",
       " 'S1_20240319_AnalysisExtent_Demak',\n",
       " 'S1_20240315_WaterExtent_Demak',\n",
       " 'S1_20240319_FloodExtent_Demak',\n",
       " 'S1_20240319_WaterExtent_Demak',\n",
       " 'S1_20240327_WaterExtent_Demak',\n",
       " 'S1_20240327_FloodExtent_Demak',\n",
       " 'fras_aux_IDP_Sites_Template_FC',\n",
       " 'fras_blk_IDP_Sites_Template_FC',\n",
       " 'fras_bnd_IDP_Sites_Template_FC',\n",
       " 'fras_ras_IDP_Sites_Template_FC']"
      ]
     },
     "execution_count": 12,
     "metadata": {},
     "output_type": "execute_result"
    }
   ],
   "source": [
    "p= '../external_validation_data/unosat/demak/FL20240326IDN.gdb/'\n",
    "fiona.listlayers(p)"
   ]
  },
  {
   "cell_type": "code",
   "execution_count": 13,
   "id": "508d63fc-be64-458f-9c8d-2a8ca05ff6de",
   "metadata": {
    "editable": true,
    "slideshow": {
     "slide_type": ""
    },
    "tags": []
   },
   "outputs": [
    {
     "data": {
      "text/html": [
       "<div>\n",
       "<style scoped>\n",
       "    .dataframe tbody tr th:only-of-type {\n",
       "        vertical-align: middle;\n",
       "    }\n",
       "\n",
       "    .dataframe tbody tr th {\n",
       "        vertical-align: top;\n",
       "    }\n",
       "\n",
       "    .dataframe thead th {\n",
       "        text-align: right;\n",
       "    }\n",
       "</style>\n",
       "<table border=\"1\" class=\"dataframe\">\n",
       "  <thead>\n",
       "    <tr style=\"text-align: right;\">\n",
       "      <th></th>\n",
       "      <th>Water_Class</th>\n",
       "      <th>Sensor_ID</th>\n",
       "      <th>Sensor_Date</th>\n",
       "      <th>Confidence_ID</th>\n",
       "      <th>Field_Validation</th>\n",
       "      <th>Water_StatusID</th>\n",
       "      <th>Notes</th>\n",
       "      <th>Area_m2</th>\n",
       "      <th>Area_ha</th>\n",
       "      <th>SenorID_old</th>\n",
       "      <th>StaffID</th>\n",
       "      <th>EventCode</th>\n",
       "      <th>SHAPE_Length</th>\n",
       "      <th>SHAPE_Area</th>\n",
       "      <th>geometry</th>\n",
       "    </tr>\n",
       "  </thead>\n",
       "  <tbody>\n",
       "    <tr>\n",
       "      <th>0</th>\n",
       "      <td>2</td>\n",
       "      <td>42</td>\n",
       "      <td>2024-03-15 00:00:00+00:00</td>\n",
       "      <td>4</td>\n",
       "      <td>0</td>\n",
       "      <td>2</td>\n",
       "      <td>None</td>\n",
       "      <td>4.743859e+08</td>\n",
       "      <td>47438.586458</td>\n",
       "      <td>None</td>\n",
       "      <td>219</td>\n",
       "      <td>FL20240326IDN</td>\n",
       "      <td>148.315129</td>\n",
       "      <td>0.038812</td>\n",
       "      <td>MULTIPOLYGON (((110.68327 -7.10235, 110.68346 ...</td>\n",
       "    </tr>\n",
       "  </tbody>\n",
       "</table>\n",
       "</div>"
      ],
      "text/plain": [
       "   Water_Class  Sensor_ID               Sensor_Date  Confidence_ID  \\\n",
       "0            2         42 2024-03-15 00:00:00+00:00              4   \n",
       "\n",
       "   Field_Validation  Water_StatusID Notes       Area_m2       Area_ha  \\\n",
       "0                 0               2  None  4.743859e+08  47438.586458   \n",
       "\n",
       "  SenorID_old  StaffID      EventCode  SHAPE_Length  SHAPE_Area  \\\n",
       "0        None      219  FL20240326IDN    148.315129    0.038812   \n",
       "\n",
       "                                            geometry  \n",
       "0  MULTIPOLYGON (((110.68327 -7.10235, 110.68346 ...  "
      ]
     },
     "execution_count": 13,
     "metadata": {},
     "output_type": "execute_result"
    }
   ],
   "source": [
    "df_flood_0 = gpd.read_file(p, layer='S1_20240315_WaterExtent_Demak')\n",
    "df_flood_0 = df_flood_0.to_crs(4326)\n",
    "df_flood_0.head()"
   ]
  },
  {
   "cell_type": "code",
   "execution_count": 14,
   "id": "c9b8a2d5-fc8c-41c0-9f39-b6752f65e460",
   "metadata": {},
   "outputs": [
    {
     "data": {
      "text/html": [
       "<div>\n",
       "<style scoped>\n",
       "    .dataframe tbody tr th:only-of-type {\n",
       "        vertical-align: middle;\n",
       "    }\n",
       "\n",
       "    .dataframe tbody tr th {\n",
       "        vertical-align: top;\n",
       "    }\n",
       "\n",
       "    .dataframe thead th {\n",
       "        text-align: right;\n",
       "    }\n",
       "</style>\n",
       "<table border=\"1\" class=\"dataframe\">\n",
       "  <thead>\n",
       "    <tr style=\"text-align: right;\">\n",
       "      <th></th>\n",
       "      <th>Water_Class</th>\n",
       "      <th>Sensor_ID</th>\n",
       "      <th>Sensor_Date</th>\n",
       "      <th>Confidence_ID</th>\n",
       "      <th>Field_Validation</th>\n",
       "      <th>Water_StatusID</th>\n",
       "      <th>Notes</th>\n",
       "      <th>Area_m2</th>\n",
       "      <th>Area_ha</th>\n",
       "      <th>SenorID_old</th>\n",
       "      <th>StaffID</th>\n",
       "      <th>EventCode</th>\n",
       "      <th>SHAPE_Length</th>\n",
       "      <th>SHAPE_Area</th>\n",
       "      <th>geometry</th>\n",
       "    </tr>\n",
       "  </thead>\n",
       "  <tbody>\n",
       "    <tr>\n",
       "      <th>0</th>\n",
       "      <td>2</td>\n",
       "      <td>42</td>\n",
       "      <td>2024-03-15 00:00:00+00:00</td>\n",
       "      <td>4</td>\n",
       "      <td>0</td>\n",
       "      <td>2</td>\n",
       "      <td>None</td>\n",
       "      <td>4.743859e+08</td>\n",
       "      <td>47438.586458</td>\n",
       "      <td>None</td>\n",
       "      <td>219</td>\n",
       "      <td>FL20240326IDN</td>\n",
       "      <td>148.315129</td>\n",
       "      <td>0.038812</td>\n",
       "      <td>MULTIPOLYGON (((110.68327 -7.10235, 110.68346 ...</td>\n",
       "    </tr>\n",
       "  </tbody>\n",
       "</table>\n",
       "</div>"
      ],
      "text/plain": [
       "   Water_Class  Sensor_ID               Sensor_Date  Confidence_ID  \\\n",
       "0            2         42 2024-03-15 00:00:00+00:00              4   \n",
       "\n",
       "   Field_Validation  Water_StatusID Notes       Area_m2       Area_ha  \\\n",
       "0                 0               2  None  4.743859e+08  47438.586458   \n",
       "\n",
       "  SenorID_old  StaffID      EventCode  SHAPE_Length  SHAPE_Area  \\\n",
       "0        None      219  FL20240326IDN    148.315129    0.038812   \n",
       "\n",
       "                                            geometry  \n",
       "0  MULTIPOLYGON (((110.68327 -7.10235, 110.68346 ...  "
      ]
     },
     "execution_count": 14,
     "metadata": {},
     "output_type": "execute_result"
    }
   ],
   "source": [
    "df_flood_1 = gpd.read_file(p, layer='S1_20240315_WaterExtent_Demak')\n",
    "df_flood_1 = df_flood_1.to_crs(4326)\n",
    "df_flood_1.head()"
   ]
  },
  {
   "cell_type": "code",
   "execution_count": 15,
   "id": "0d206250-19fa-46ba-a8f6-c07edcc24770",
   "metadata": {
    "editable": true,
    "slideshow": {
     "slide_type": ""
    },
    "tags": []
   },
   "outputs": [],
   "source": [
    "# df_flood_coastal = df_flood.cx[89.2:91, 21.5: 24].reset_index(drop=True)\n",
    "# df_flood_coastal.explore()"
   ]
  },
  {
   "cell_type": "code",
   "execution_count": 16,
   "id": "6ed28660-4cbf-4191-9d2e-725557983ae3",
   "metadata": {},
   "outputs": [
    {
     "data": {
      "text/plain": [
       "array([110.44327409,  -7.10254596, 111.30361853,  -6.68336863])"
      ]
     },
     "execution_count": 16,
     "metadata": {},
     "output_type": "execute_result"
    }
   ],
   "source": [
    "df_flood_0.total_bounds"
   ]
  },
  {
   "cell_type": "code",
   "execution_count": 17,
   "id": "8ae58dd4-bece-4e79-a844-4aa86484589c",
   "metadata": {},
   "outputs": [
    {
     "data": {
      "text/html": [
       "<div>\n",
       "<style scoped>\n",
       "    .dataframe tbody tr th:only-of-type {\n",
       "        vertical-align: middle;\n",
       "    }\n",
       "\n",
       "    .dataframe tbody tr th {\n",
       "        vertical-align: top;\n",
       "    }\n",
       "\n",
       "    .dataframe thead th {\n",
       "        text-align: right;\n",
       "    }\n",
       "</style>\n",
       "<table border=\"1\" class=\"dataframe\">\n",
       "  <thead>\n",
       "    <tr style=\"text-align: right;\">\n",
       "      <th></th>\n",
       "      <th>name</th>\n",
       "      <th>date</th>\n",
       "      <th>source_id</th>\n",
       "      <th>geometry</th>\n",
       "    </tr>\n",
       "  </thead>\n",
       "  <tbody>\n",
       "    <tr>\n",
       "      <th>0</th>\n",
       "      <td>demak_flood_2024</td>\n",
       "      <td>2024-03-15</td>\n",
       "      <td>UNOSAT via humanitarian data exchange and S1 o...</td>\n",
       "      <td>MULTIPOLYGON (((110.68327 -7.10235, 110.68346 ...</td>\n",
       "    </tr>\n",
       "  </tbody>\n",
       "</table>\n",
       "</div>"
      ],
      "text/plain": [
       "               name       date  \\\n",
       "0  demak_flood_2024 2024-03-15   \n",
       "\n",
       "                                           source_id  \\\n",
       "0  UNOSAT via humanitarian data exchange and S1 o...   \n",
       "\n",
       "                                            geometry  \n",
       "0  MULTIPOLYGON (((110.68327 -7.10235, 110.68346 ...  "
      ]
     },
     "execution_count": 17,
     "metadata": {},
     "output_type": "execute_result"
    }
   ],
   "source": [
    "n = df_flood_0.shape[0]\n",
    "df_event_f = gpd.GeoDataFrame({'name': [event_dict['event_name'] for k in range(n)],\n",
    "                               'date': [pd.to_datetime(event_dict['event_date']) for k in range(n)],\n",
    "                               'source_id': [f'{event_dict[\"source_id\"]}' for k in range(n)]},\n",
    "                               geometry=df_flood_0.geometry.tolist(),\n",
    "                               crs=CRS.from_epsg(4326))\n",
    "df_event_f.head()"
   ]
  },
  {
   "cell_type": "code",
   "execution_count": 18,
   "id": "ed9dddb7-b070-4bbf-b514-3575365ea15d",
   "metadata": {},
   "outputs": [],
   "source": [
    "EXTERNAL_VAL_DATA_DIR = Path('../external_validation_data_db/')\n",
    "EXTERNAL_VAL_DATA_DIR.mkdir(exist_ok=True, parents=True)"
   ]
  },
  {
   "cell_type": "code",
   "execution_count": 19,
   "id": "cbb66a9c-32f1-42c4-ab3f-4b5a2cd0b1b3",
   "metadata": {},
   "outputs": [],
   "source": [
    "df_event_f.to_parquet(EXTERNAL_VAL_DATA_DIR / f'{event_dict[\"event_name\"]}.parquet')"
   ]
  },
  {
   "cell_type": "markdown",
   "id": "69f74ed7-f6b3-45e5-98a0-f2f93292cef7",
   "metadata": {},
   "source": [
    "# Extent"
   ]
  },
  {
   "cell_type": "code",
   "execution_count": 22,
   "id": "aeefc628-4bce-4ca2-a85b-6db1b68535f5",
   "metadata": {},
   "outputs": [
    {
     "data": {
      "text/html": [
       "<div>\n",
       "<style scoped>\n",
       "    .dataframe tbody tr th:only-of-type {\n",
       "        vertical-align: middle;\n",
       "    }\n",
       "\n",
       "    .dataframe tbody tr th {\n",
       "        vertical-align: top;\n",
       "    }\n",
       "\n",
       "    .dataframe thead th {\n",
       "        text-align: right;\n",
       "    }\n",
       "</style>\n",
       "<table border=\"1\" class=\"dataframe\">\n",
       "  <thead>\n",
       "    <tr style=\"text-align: right;\">\n",
       "      <th></th>\n",
       "      <th>SensorDate</th>\n",
       "      <th>SensorID</th>\n",
       "      <th>Notes</th>\n",
       "      <th>Area_m2</th>\n",
       "      <th>GlobalID</th>\n",
       "      <th>StaffID</th>\n",
       "      <th>EventCode</th>\n",
       "      <th>SHAPE_Length</th>\n",
       "      <th>SHAPE_Area</th>\n",
       "      <th>Area_ha</th>\n",
       "      <th>geometry</th>\n",
       "    </tr>\n",
       "  </thead>\n",
       "  <tbody>\n",
       "    <tr>\n",
       "      <th>0</th>\n",
       "      <td>2024-03-19 00:00:00+00:00</td>\n",
       "      <td>42</td>\n",
       "      <td>None</td>\n",
       "      <td>4.403020e+09</td>\n",
       "      <td>{08798F9E-FCC1-454B-B0DE-16E408DC8C90}</td>\n",
       "      <td>219</td>\n",
       "      <td>FL20240326IDN</td>\n",
       "      <td>2.558338</td>\n",
       "      <td>0.360236</td>\n",
       "      <td>440302.0625</td>\n",
       "      <td>MULTIPOLYGON (((110.44276 -6.68483, 111.30332 ...</td>\n",
       "    </tr>\n",
       "  </tbody>\n",
       "</table>\n",
       "</div>"
      ],
      "text/plain": [
       "                 SensorDate  SensorID Notes       Area_m2  \\\n",
       "0 2024-03-19 00:00:00+00:00        42  None  4.403020e+09   \n",
       "\n",
       "                                 GlobalID  StaffID      EventCode  \\\n",
       "0  {08798F9E-FCC1-454B-B0DE-16E408DC8C90}      219  FL20240326IDN   \n",
       "\n",
       "   SHAPE_Length  SHAPE_Area      Area_ha  \\\n",
       "0      2.558338    0.360236  440302.0625   \n",
       "\n",
       "                                            geometry  \n",
       "0  MULTIPOLYGON (((110.44276 -6.68483, 111.30332 ...  "
      ]
     },
     "execution_count": 22,
     "metadata": {},
     "output_type": "execute_result"
    }
   ],
   "source": [
    "df_aoi = gpd.read_file(p, layer='S1_20240319_AnalysisExtent_Demak')\n",
    "df_aoi = df_aoi.to_crs(4326)\n",
    "df_aoi.head()"
   ]
  },
  {
   "cell_type": "code",
   "execution_count": 23,
   "id": "259fc674-4a97-46f9-b979-a1793a278854",
   "metadata": {},
   "outputs": [
    {
     "data": {
      "text/plain": [
       "<Axes: >"
      ]
     },
     "execution_count": 23,
     "metadata": {},
     "output_type": "execute_result"
    },
    {
     "data": {
      "image/png": "[encoded data removed]",
      "text/plain": [
       "<Figure size 640x480 with 1 Axes>"
      ]
     },
     "metadata": {},
     "output_type": "display_data"
    }
   ],
   "source": [
    "import matplotlib.pyplot as plt\n",
    "\n",
    "fig, ax = plt.subplots()\n",
    "df_aoi.boundary.plot(ax=ax)\n",
    "df_event_f.plot(ax=ax)"
   ]
  },
  {
   "cell_type": "code",
   "execution_count": 24,
   "id": "e7520955-ee8e-42a1-b6bb-347ee9e34fac",
   "metadata": {},
   "outputs": [],
   "source": [
    "EXTERNAL_VAL_EXTENTS = Path('../external_validation_data_extents_db/')\n",
    "EXTERNAL_VAL_EXTENTS.mkdir(exist_ok=True, parents=True)\n",
    "\n",
    "df_aoi.to_file(EXTERNAL_VAL_EXTENTS / f'{event_dict[\"event_name\"]}.geojson', driver='GeoJSON')"
   ]
  }
 ],
 "metadata": {
  "kernelspec": {
   "display_name": "dist-s1",
   "language": "python",
   "name": "dist-s1"
  },
  "language_info": {
   "codemirror_mode": {
    "name": "ipython",
    "version": 3
   },
   "file_extension": ".py",
   "mimetype": "text/x-python",
   "name": "python",
   "nbconvert_exporter": "python",
   "pygments_lexer": "ipython3",
   "version": "3.12.4"
  }
 },
 "nbformat": 4,
 "nbformat_minor": 5
}
