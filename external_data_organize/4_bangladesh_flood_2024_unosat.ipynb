{
 "cells": [
  {
   "cell_type": "markdown",
   "id": "308f7b60-0c23-4865-81d3-cfc2bfc1a170",
   "metadata": {
    "editable": true,
    "slideshow": {
     "slide_type": ""
    },
    "tags": []
   },
   "source": [
    "Source: https://data.humdata.org/dataset/satellite-detected-water-extents-between-4-11-july-2024-in-bangladesh"
   ]
  },
  {
   "cell_type": "code",
   "execution_count": 4,
   "id": "0c14f20f-03f2-43da-8ba5-294931194ff4",
   "metadata": {
    "editable": true,
    "slideshow": {
     "slide_type": ""
    },
    "tags": []
   },
   "outputs": [],
   "source": [
    "import geopandas as gpd\n",
    "import pandas as pd\n",
    "import yaml\n",
    "from rasterio.crs import CRS\n",
    "from pathlib import Path\n",
    "import fiona"
   ]
  },
  {
   "cell_type": "code",
   "execution_count": 5,
   "id": "eb81041d-99b5-4d8e-9e5e-fb1aae7d184f",
   "metadata": {},
   "outputs": [
    {
     "data": {
      "text/plain": [
       "{'event_name': 'bangladesh_coastal_flood_2024',\n",
       " 'bounds': [88.96546265, 21.65505773, 91.33990759, 24.17825791],\n",
       " 'event_date': '2024-07-08',\n",
       " 'pre_event_window_days': 100,\n",
       " 'post_event_window_days': 60,\n",
       " 'rtc_track_numbers': [150, 114],\n",
       " 'mgrs_tiles': ['45QYE', '45QYF', '45QZE', '45QZF'],\n",
       " 'dist_hls_confirmed_change_min_days': 30,\n",
       " 'source_id': 'UNOSAT via humanitarian data exchange',\n",
       " 'links': ['https://data.humdata.org/dataset/satellite-detected-water-extents-between-4-11-july-2024-in-bangladesh',\n",
       "  'https://reliefweb.int/disaster/fl-2024-000088-bgd']}"
      ]
     },
     "execution_count": 5,
     "metadata": {},
     "output_type": "execute_result"
    }
   ],
   "source": [
    "yaml_file = '../events/bangladesh_coastal_flood_2024.yml' #'porto_algre.yml'\n",
    "with open(yaml_file) as f:\n",
    "    event_dict = yaml.safe_load(f)[\"event\"]\n",
    "event_dict"
   ]
  },
  {
   "cell_type": "code",
   "execution_count": 8,
   "id": "dd4f40fb-9e69-452d-8278-bd2df41f02cc",
   "metadata": {},
   "outputs": [],
   "source": [
    "p = '../external_validation_data/unosat/bangladesh_flood_2024/TC20240502BGD.gdb/'"
   ]
  },
  {
   "cell_type": "code",
   "execution_count": 9,
   "id": "dfae842d-701f-4814-8871-1656495e3a17",
   "metadata": {},
   "outputs": [
    {
     "data": {
      "text/plain": [
       "['PHR_20240604_AnalysisExtent_Morrelganj',\n",
       " 'PHR_20240604_DamageAssessment_Morrelganj',\n",
       " 'PHR_20240604_DamageAssessment_Paikgachha',\n",
       " 'PHR_20240604_AnalysisExtent_Paikgachha',\n",
       " 'PHR_20240604_AnalysisExtent_Rampal',\n",
       " 'PHR_20240604_DamageAssessment_Rampal',\n",
       " 'TDX1_20240601_FloodWater_Satkhira',\n",
       " 'TDX1_20240601_AnalysisExtent_Satkhira',\n",
       " 'WV2_20240610_AnalysisExtent_Shyamnagar',\n",
       " 'WV2_20240610_DamageAssessment_Shyamnagar',\n",
       " 'S1_20240619_20240622_AnalysisExtent_Sylhet',\n",
       " 'S1_20240619_20240622_FloodExtent_Sylhet',\n",
       " 'S1_20240619_20240622_WaterExtent_Sylhet',\n",
       " 'SAOCOM_20240626_AnalysisExtent_Sylhet_1',\n",
       " 'SAOCOM_20240626_PotentiallyAffectedRoad_Sylhet',\n",
       " 'SAOCOM_20240626_FloodExtent_Sylhet',\n",
       " 'SAOCOM_20240626_FloodedStructure_Sylhet',\n",
       " 'GLOBAL_20240626_FloodExtent_Sunamganj',\n",
       " 'GLOBAL_20240626_AnglysisExtent_Sunamganj',\n",
       " 'GLOBAL_20240626_FloodedStructure_Sunamganj',\n",
       " 'PHR_20240626_FloodExtent_SunamganjSadar',\n",
       " 'PHR_20240626_AnglysisExtent_SunamganjSadar',\n",
       " 'PHR_20240626_CloudObstruction_SunamganjSadar',\n",
       " 'PHR_20240626_FloodedStructure_SunamganjSadar',\n",
       " 'ST1_20240622_20240629_AnalysisExtent_Bangladesh',\n",
       " 'ST1_20240704_20240711_AnalysisExtent_Bangladesh',\n",
       " 'ST1_20240622_20240629_FloodExtent_Bangladesh',\n",
       " 'ST1_20240704_20240711_FloodExtent_Bangladesh',\n",
       " 'fras_aux_IDP_Sites_Template_FC',\n",
       " 'fras_blk_IDP_Sites_Template_FC',\n",
       " 'fras_bnd_IDP_Sites_Template_FC',\n",
       " 'fras_ras_IDP_Sites_Template_FC']"
      ]
     },
     "execution_count": 9,
     "metadata": {},
     "output_type": "execute_result"
    }
   ],
   "source": [
    "fiona.listlayers(p)\n"
   ]
  },
  {
   "cell_type": "code",
   "execution_count": 40,
   "id": "508d63fc-be64-458f-9c8d-2a8ca05ff6de",
   "metadata": {
    "editable": true,
    "slideshow": {
     "slide_type": ""
    },
    "tags": []
   },
   "outputs": [
    {
     "data": {
      "text/html": [
       "<div>\n",
       "<style scoped>\n",
       "    .dataframe tbody tr th:only-of-type {\n",
       "        vertical-align: middle;\n",
       "    }\n",
       "\n",
       "    .dataframe tbody tr th {\n",
       "        vertical-align: top;\n",
       "    }\n",
       "\n",
       "    .dataframe thead th {\n",
       "        text-align: right;\n",
       "    }\n",
       "</style>\n",
       "<table border=\"1\" class=\"dataframe\">\n",
       "  <thead>\n",
       "    <tr style=\"text-align: right;\">\n",
       "      <th></th>\n",
       "      <th>Water_Class</th>\n",
       "      <th>Sensor_ID</th>\n",
       "      <th>Sensor_Date</th>\n",
       "      <th>Confidence_ID</th>\n",
       "      <th>Field_Validation</th>\n",
       "      <th>Water_StatusID</th>\n",
       "      <th>Notes</th>\n",
       "      <th>Area_m2</th>\n",
       "      <th>Area_ha</th>\n",
       "      <th>SenorID_old</th>\n",
       "      <th>StaffID</th>\n",
       "      <th>EventCode</th>\n",
       "      <th>SHAPE_Length</th>\n",
       "      <th>SHAPE_Area</th>\n",
       "      <th>geometry</th>\n",
       "    </tr>\n",
       "  </thead>\n",
       "  <tbody>\n",
       "    <tr>\n",
       "      <th>0</th>\n",
       "      <td>2</td>\n",
       "      <td>42</td>\n",
       "      <td>2024-06-29 00:00:00+00:00</td>\n",
       "      <td>4</td>\n",
       "      <td>0</td>\n",
       "      <td>1</td>\n",
       "      <td>None</td>\n",
       "      <td>1.207202e+07</td>\n",
       "      <td>1207.201933</td>\n",
       "      <td>None</td>\n",
       "      <td>213</td>\n",
       "      <td>FL20240502BGD</td>\n",
       "      <td>4.922023</td>\n",
       "      <td>0.001063</td>\n",
       "      <td>MULTIPOLYGON (((89.51460 22.92837, 89.51451 22...</td>\n",
       "    </tr>\n",
       "    <tr>\n",
       "      <th>1</th>\n",
       "      <td>2</td>\n",
       "      <td>42</td>\n",
       "      <td>2024-06-29 00:00:00+00:00</td>\n",
       "      <td>4</td>\n",
       "      <td>0</td>\n",
       "      <td>1</td>\n",
       "      <td>None</td>\n",
       "      <td>2.953623e+06</td>\n",
       "      <td>295.362257</td>\n",
       "      <td>None</td>\n",
       "      <td>213</td>\n",
       "      <td>FL20240502BGD</td>\n",
       "      <td>1.566978</td>\n",
       "      <td>0.000260</td>\n",
       "      <td>MULTIPOLYGON (((90.18886 22.90311, 90.18886 22...</td>\n",
       "    </tr>\n",
       "    <tr>\n",
       "      <th>2</th>\n",
       "      <td>2</td>\n",
       "      <td>42</td>\n",
       "      <td>2024-06-29 00:00:00+00:00</td>\n",
       "      <td>4</td>\n",
       "      <td>0</td>\n",
       "      <td>1</td>\n",
       "      <td>None</td>\n",
       "      <td>1.220184e+06</td>\n",
       "      <td>122.018418</td>\n",
       "      <td>None</td>\n",
       "      <td>213</td>\n",
       "      <td>FL20240502BGD</td>\n",
       "      <td>0.837276</td>\n",
       "      <td>0.000108</td>\n",
       "      <td>MULTIPOLYGON (((88.92619 23.62571, 88.92565 23...</td>\n",
       "    </tr>\n",
       "    <tr>\n",
       "      <th>3</th>\n",
       "      <td>2</td>\n",
       "      <td>42</td>\n",
       "      <td>2024-06-29 00:00:00+00:00</td>\n",
       "      <td>4</td>\n",
       "      <td>0</td>\n",
       "      <td>1</td>\n",
       "      <td>None</td>\n",
       "      <td>1.325845e+06</td>\n",
       "      <td>132.584514</td>\n",
       "      <td>None</td>\n",
       "      <td>213</td>\n",
       "      <td>FL20240502BGD</td>\n",
       "      <td>0.584570</td>\n",
       "      <td>0.000117</td>\n",
       "      <td>MULTIPOLYGON (((89.68772 23.21053, 89.68772 23...</td>\n",
       "    </tr>\n",
       "    <tr>\n",
       "      <th>4</th>\n",
       "      <td>2</td>\n",
       "      <td>42</td>\n",
       "      <td>2024-06-29 00:00:00+00:00</td>\n",
       "      <td>4</td>\n",
       "      <td>0</td>\n",
       "      <td>1</td>\n",
       "      <td>None</td>\n",
       "      <td>5.652752e+07</td>\n",
       "      <td>5652.751799</td>\n",
       "      <td>None</td>\n",
       "      <td>213</td>\n",
       "      <td>FL20240502BGD</td>\n",
       "      <td>11.994240</td>\n",
       "      <td>0.004944</td>\n",
       "      <td>MULTIPOLYGON (((90.05874 21.86457, 90.05847 21...</td>\n",
       "    </tr>\n",
       "  </tbody>\n",
       "</table>\n",
       "</div>"
      ],
      "text/plain": [
       "   Water_Class  Sensor_ID               Sensor_Date  Confidence_ID  \\\n",
       "0            2         42 2024-06-29 00:00:00+00:00              4   \n",
       "1            2         42 2024-06-29 00:00:00+00:00              4   \n",
       "2            2         42 2024-06-29 00:00:00+00:00              4   \n",
       "3            2         42 2024-06-29 00:00:00+00:00              4   \n",
       "4            2         42 2024-06-29 00:00:00+00:00              4   \n",
       "\n",
       "   Field_Validation  Water_StatusID Notes       Area_m2      Area_ha  \\\n",
       "0                 0               1  None  1.207202e+07  1207.201933   \n",
       "1                 0               1  None  2.953623e+06   295.362257   \n",
       "2                 0               1  None  1.220184e+06   122.018418   \n",
       "3                 0               1  None  1.325845e+06   132.584514   \n",
       "4                 0               1  None  5.652752e+07  5652.751799   \n",
       "\n",
       "  SenorID_old  StaffID      EventCode  SHAPE_Length  SHAPE_Area  \\\n",
       "0        None      213  FL20240502BGD      4.922023    0.001063   \n",
       "1        None      213  FL20240502BGD      1.566978    0.000260   \n",
       "2        None      213  FL20240502BGD      0.837276    0.000108   \n",
       "3        None      213  FL20240502BGD      0.584570    0.000117   \n",
       "4        None      213  FL20240502BGD     11.994240    0.004944   \n",
       "\n",
       "                                            geometry  \n",
       "0  MULTIPOLYGON (((89.51460 22.92837, 89.51451 22...  \n",
       "1  MULTIPOLYGON (((90.18886 22.90311, 90.18886 22...  \n",
       "2  MULTIPOLYGON (((88.92619 23.62571, 88.92565 23...  \n",
       "3  MULTIPOLYGON (((89.68772 23.21053, 89.68772 23...  \n",
       "4  MULTIPOLYGON (((90.05874 21.86457, 90.05847 21...  "
      ]
     },
     "execution_count": 40,
     "metadata": {},
     "output_type": "execute_result"
    }
   ],
   "source": [
    "df_flood = gpd.read_file(p, layer='ST1_20240622_20240629_FloodExtent_Bangladesh')\n",
    "df_flood = df_flood.to_crs(4326)\n",
    "df_flood.head()"
   ]
  },
  {
   "cell_type": "code",
   "execution_count": 41,
   "id": "0d206250-19fa-46ba-a8f6-c07edcc24770",
   "metadata": {
    "editable": true,
    "slideshow": {
     "slide_type": ""
    },
    "tags": []
   },
   "outputs": [
    {
     "data": {
      "text/plain": [
       "<Axes: >"
      ]
     },
     "execution_count": 41,
     "metadata": {},
     "output_type": "execute_result"
    },
    {
     "data": {
      "image/png": "[encoded data removed]",
      "text/plain": [
       "<Figure size 640x480 with 1 Axes>"
      ]
     },
     "metadata": {},
     "output_type": "display_data"
    }
   ],
   "source": [
    "df_flood_coastal = df_flood.cx[89.2:91, 21.5: 24].reset_index(drop=True)\n",
    "df_flood_coastal.plot()"
   ]
  },
  {
   "cell_type": "code",
   "execution_count": 42,
   "id": "6ed28660-4cbf-4191-9d2e-725557983ae3",
   "metadata": {},
   "outputs": [
    {
     "data": {
      "text/plain": [
       "array([88.96544182, 21.65442891, 91.19868925, 24.17805507])"
      ]
     },
     "execution_count": 42,
     "metadata": {},
     "output_type": "execute_result"
    }
   ],
   "source": [
    "df_flood_coastal.total_bounds"
   ]
  },
  {
   "cell_type": "code",
   "execution_count": 43,
   "id": "8ae58dd4-bece-4e79-a844-4aa86484589c",
   "metadata": {},
   "outputs": [
    {
     "data": {
      "text/html": [
       "<div>\n",
       "<style scoped>\n",
       "    .dataframe tbody tr th:only-of-type {\n",
       "        vertical-align: middle;\n",
       "    }\n",
       "\n",
       "    .dataframe tbody tr th {\n",
       "        vertical-align: top;\n",
       "    }\n",
       "\n",
       "    .dataframe thead th {\n",
       "        text-align: right;\n",
       "    }\n",
       "</style>\n",
       "<table border=\"1\" class=\"dataframe\">\n",
       "  <thead>\n",
       "    <tr style=\"text-align: right;\">\n",
       "      <th></th>\n",
       "      <th>name</th>\n",
       "      <th>date</th>\n",
       "      <th>source_id</th>\n",
       "      <th>geometry</th>\n",
       "    </tr>\n",
       "  </thead>\n",
       "  <tbody>\n",
       "    <tr>\n",
       "      <th>0</th>\n",
       "      <td>bangladesh_coastal_flood_2024</td>\n",
       "      <td>2024-07-08</td>\n",
       "      <td>UNOSAT via humanitarian data exchange</td>\n",
       "      <td>MULTIPOLYGON (((89.51460 22.92837, 89.51451 22...</td>\n",
       "    </tr>\n",
       "    <tr>\n",
       "      <th>1</th>\n",
       "      <td>bangladesh_coastal_flood_2024</td>\n",
       "      <td>2024-07-08</td>\n",
       "      <td>UNOSAT via humanitarian data exchange</td>\n",
       "      <td>MULTIPOLYGON (((90.18886 22.90311, 90.18886 22...</td>\n",
       "    </tr>\n",
       "    <tr>\n",
       "      <th>2</th>\n",
       "      <td>bangladesh_coastal_flood_2024</td>\n",
       "      <td>2024-07-08</td>\n",
       "      <td>UNOSAT via humanitarian data exchange</td>\n",
       "      <td>MULTIPOLYGON (((89.68772 23.21053, 89.68772 23...</td>\n",
       "    </tr>\n",
       "    <tr>\n",
       "      <th>3</th>\n",
       "      <td>bangladesh_coastal_flood_2024</td>\n",
       "      <td>2024-07-08</td>\n",
       "      <td>UNOSAT via humanitarian data exchange</td>\n",
       "      <td>MULTIPOLYGON (((90.05874 21.86457, 90.05847 21...</td>\n",
       "    </tr>\n",
       "    <tr>\n",
       "      <th>4</th>\n",
       "      <td>bangladesh_coastal_flood_2024</td>\n",
       "      <td>2024-07-08</td>\n",
       "      <td>UNOSAT via humanitarian data exchange</td>\n",
       "      <td>MULTIPOLYGON (((89.24742 22.35109, 89.24733 22...</td>\n",
       "    </tr>\n",
       "  </tbody>\n",
       "</table>\n",
       "</div>"
      ],
      "text/plain": [
       "                            name       date  \\\n",
       "0  bangladesh_coastal_flood_2024 2024-07-08   \n",
       "1  bangladesh_coastal_flood_2024 2024-07-08   \n",
       "2  bangladesh_coastal_flood_2024 2024-07-08   \n",
       "3  bangladesh_coastal_flood_2024 2024-07-08   \n",
       "4  bangladesh_coastal_flood_2024 2024-07-08   \n",
       "\n",
       "                               source_id  \\\n",
       "0  UNOSAT via humanitarian data exchange   \n",
       "1  UNOSAT via humanitarian data exchange   \n",
       "2  UNOSAT via humanitarian data exchange   \n",
       "3  UNOSAT via humanitarian data exchange   \n",
       "4  UNOSAT via humanitarian data exchange   \n",
       "\n",
       "                                            geometry  \n",
       "0  MULTIPOLYGON (((89.51460 22.92837, 89.51451 22...  \n",
       "1  MULTIPOLYGON (((90.18886 22.90311, 90.18886 22...  \n",
       "2  MULTIPOLYGON (((89.68772 23.21053, 89.68772 23...  \n",
       "3  MULTIPOLYGON (((90.05874 21.86457, 90.05847 21...  \n",
       "4  MULTIPOLYGON (((89.24742 22.35109, 89.24733 22...  "
      ]
     },
     "execution_count": 43,
     "metadata": {},
     "output_type": "execute_result"
    }
   ],
   "source": [
    "n = df_flood_coastal.shape[0]\n",
    "df_event_f = gpd.GeoDataFrame({'name': [event_dict['event_name'] for k in range(n)],\n",
    "                               'date': [pd.to_datetime(event_dict['event_date']) for k in range(n)],\n",
    "                               'source_id': [f'{event_dict[\"source_id\"]}' for k in range(n)]},\n",
    "                              geometry=df_flood_coastal.geometry.tolist(),\n",
    "                              crs=CRS.from_epsg(4326))\n",
    "df_event_f.head()"
   ]
  },
  {
   "cell_type": "code",
   "execution_count": 44,
   "id": "3a68422f-92a5-4937-aef5-32630bf832d0",
   "metadata": {},
   "outputs": [],
   "source": [
    "geos_intersection = df_flood.geometry.intersection(box(*df_event_f.total_bounds))"
   ]
  },
  {
   "cell_type": "code",
   "execution_count": 60,
   "id": "e545f6cf-5f5b-4626-a122-43fe372b5554",
   "metadata": {},
   "outputs": [
    {
     "data": {
      "text/plain": [
       "(511, 245)"
      ]
     },
     "execution_count": 60,
     "metadata": {},
     "output_type": "execute_result"
    }
   ],
   "source": [
    "from shapely.geometry import Polygon, MultiPolygon\n",
    "geos_intersection_f = [geo for geo in geos_intersection if (not geo.is_empty) and (isinstance(geo, (Polygon, MultiPolygon))) ]\n",
    "len(geos_intersection), len(geos_intersection_f)"
   ]
  },
  {
   "cell_type": "code",
   "execution_count": 61,
   "id": "14700239-a12c-4282-98a8-642f3e68befa",
   "metadata": {},
   "outputs": [
    {
     "data": {
      "text/html": [
       "<div>\n",
       "<style scoped>\n",
       "    .dataframe tbody tr th:only-of-type {\n",
       "        vertical-align: middle;\n",
       "    }\n",
       "\n",
       "    .dataframe tbody tr th {\n",
       "        vertical-align: top;\n",
       "    }\n",
       "\n",
       "    .dataframe thead th {\n",
       "        text-align: right;\n",
       "    }\n",
       "</style>\n",
       "<table border=\"1\" class=\"dataframe\">\n",
       "  <thead>\n",
       "    <tr style=\"text-align: right;\">\n",
       "      <th></th>\n",
       "      <th>name</th>\n",
       "      <th>date</th>\n",
       "      <th>source_id</th>\n",
       "      <th>geometry</th>\n",
       "    </tr>\n",
       "  </thead>\n",
       "  <tbody>\n",
       "    <tr>\n",
       "      <th>0</th>\n",
       "      <td>bangladesh_coastal_flood_2024</td>\n",
       "      <td>2024-07-08</td>\n",
       "      <td>UNOSAT via humanitarian data exchange</td>\n",
       "      <td>MULTIPOLYGON (((89.51451 22.92837, 89.51451 22...</td>\n",
       "    </tr>\n",
       "    <tr>\n",
       "      <th>1</th>\n",
       "      <td>bangladesh_coastal_flood_2024</td>\n",
       "      <td>2024-07-08</td>\n",
       "      <td>UNOSAT via humanitarian data exchange</td>\n",
       "      <td>MULTIPOLYGON (((90.18886 22.90296, 90.18881 22...</td>\n",
       "    </tr>\n",
       "    <tr>\n",
       "      <th>2</th>\n",
       "      <td>bangladesh_coastal_flood_2024</td>\n",
       "      <td>2024-07-08</td>\n",
       "      <td>UNOSAT via humanitarian data exchange</td>\n",
       "      <td>MULTIPOLYGON (((89.00732 23.62769, 89.00732 23...</td>\n",
       "    </tr>\n",
       "    <tr>\n",
       "      <th>3</th>\n",
       "      <td>bangladesh_coastal_flood_2024</td>\n",
       "      <td>2024-07-08</td>\n",
       "      <td>UNOSAT via humanitarian data exchange</td>\n",
       "      <td>MULTIPOLYGON (((89.68772 23.21045, 89.68750 23...</td>\n",
       "    </tr>\n",
       "    <tr>\n",
       "      <th>4</th>\n",
       "      <td>bangladesh_coastal_flood_2024</td>\n",
       "      <td>2024-07-08</td>\n",
       "      <td>UNOSAT via humanitarian data exchange</td>\n",
       "      <td>MULTIPOLYGON (((90.05847 21.86457, 90.05847 21...</td>\n",
       "    </tr>\n",
       "  </tbody>\n",
       "</table>\n",
       "</div>"
      ],
      "text/plain": [
       "                            name       date  \\\n",
       "0  bangladesh_coastal_flood_2024 2024-07-08   \n",
       "1  bangladesh_coastal_flood_2024 2024-07-08   \n",
       "2  bangladesh_coastal_flood_2024 2024-07-08   \n",
       "3  bangladesh_coastal_flood_2024 2024-07-08   \n",
       "4  bangladesh_coastal_flood_2024 2024-07-08   \n",
       "\n",
       "                               source_id  \\\n",
       "0  UNOSAT via humanitarian data exchange   \n",
       "1  UNOSAT via humanitarian data exchange   \n",
       "2  UNOSAT via humanitarian data exchange   \n",
       "3  UNOSAT via humanitarian data exchange   \n",
       "4  UNOSAT via humanitarian data exchange   \n",
       "\n",
       "                                            geometry  \n",
       "0  MULTIPOLYGON (((89.51451 22.92837, 89.51451 22...  \n",
       "1  MULTIPOLYGON (((90.18886 22.90296, 90.18881 22...  \n",
       "2  MULTIPOLYGON (((89.00732 23.62769, 89.00732 23...  \n",
       "3  MULTIPOLYGON (((89.68772 23.21045, 89.68750 23...  \n",
       "4  MULTIPOLYGON (((90.05847 21.86457, 90.05847 21...  "
      ]
     },
     "execution_count": 61,
     "metadata": {},
     "output_type": "execute_result"
    }
   ],
   "source": [
    "n = len(geos_intersection)\n",
    "df_event_f2 = gpd.GeoDataFrame({'name': [event_dict['event_name'] for k in range(n)],\n",
    "                               'date': [pd.to_datetime(event_dict['event_date']) for k in range(n)],\n",
    "                               'source_id': [f'{event_dict[\"source_id\"]}' for k in range(n)]},\n",
    "                              geometry=geos_intersection,\n",
    "                              crs=CRS.from_epsg(4326))\n",
    "df_event_f2.head()"
   ]
  },
  {
   "cell_type": "code",
   "execution_count": 62,
   "id": "ed9dddb7-b070-4bbf-b514-3575365ea15d",
   "metadata": {},
   "outputs": [],
   "source": [
    "EXTERNAL_VAL_DATA_DIR = Path('../external_validation_data_db/')\n",
    "EXTERNAL_VAL_DATA_DIR.mkdir(exist_ok=True, parents=True)"
   ]
  },
  {
   "cell_type": "code",
   "execution_count": 63,
   "id": "cbb66a9c-32f1-42c4-ab3f-4b5a2cd0b1b3",
   "metadata": {},
   "outputs": [],
   "source": [
    "df_event_f2.to_parquet(EXTERNAL_VAL_DATA_DIR / f'{event_dict[\"event_name\"]}.parquet')"
   ]
  },
  {
   "cell_type": "code",
   "execution_count": 68,
   "id": "a6327680-4e5b-4808-9caf-8c34b0aaaaca",
   "metadata": {},
   "outputs": [],
   "source": [
    "#df_event_f2.to_file(EXTERNAL_VAL_DATA_DIR / f'{event_dict[\"event_name\"]}.geojson', driver='GeoJSON')"
   ]
  },
  {
   "cell_type": "markdown",
   "id": "be68c472-300b-497e-8c5b-437c34829fca",
   "metadata": {},
   "source": [
    "# Extents"
   ]
  },
  {
   "cell_type": "code",
   "execution_count": 65,
   "id": "e8675179-22be-4db9-ad5b-ee71a96a667f",
   "metadata": {},
   "outputs": [
    {
     "data": {
      "text/html": [
       "<div>\n",
       "<style scoped>\n",
       "    .dataframe tbody tr th:only-of-type {\n",
       "        vertical-align: middle;\n",
       "    }\n",
       "\n",
       "    .dataframe tbody tr th {\n",
       "        vertical-align: top;\n",
       "    }\n",
       "\n",
       "    .dataframe thead th {\n",
       "        text-align: right;\n",
       "    }\n",
       "</style>\n",
       "<table border=\"1\" class=\"dataframe\">\n",
       "  <thead>\n",
       "    <tr style=\"text-align: right;\">\n",
       "      <th></th>\n",
       "      <th>SensorDate</th>\n",
       "      <th>SensorID</th>\n",
       "      <th>Notes</th>\n",
       "      <th>Area_m2</th>\n",
       "      <th>GlobalID</th>\n",
       "      <th>StaffID</th>\n",
       "      <th>EventCode</th>\n",
       "      <th>Area_ha</th>\n",
       "      <th>SHAPE_Length</th>\n",
       "      <th>SHAPE_Area</th>\n",
       "      <th>geometry</th>\n",
       "    </tr>\n",
       "  </thead>\n",
       "  <tbody>\n",
       "    <tr>\n",
       "      <th>0</th>\n",
       "      <td>2024-06-29 00:00:00+00:00</td>\n",
       "      <td>42</td>\n",
       "      <td>None</td>\n",
       "      <td>1.398520e+11</td>\n",
       "      <td>{3EF96309-C5FD-4805-AE6C-271B7C907863}</td>\n",
       "      <td>213</td>\n",
       "      <td>FL20240502BGD</td>\n",
       "      <td>None</td>\n",
       "      <td>110.307505</td>\n",
       "      <td>12.396584</td>\n",
       "      <td>MULTIPOLYGON (((89.24840 21.68909, 89.25006 21...</td>\n",
       "    </tr>\n",
       "  </tbody>\n",
       "</table>\n",
       "</div>"
      ],
      "text/plain": [
       "                 SensorDate  SensorID Notes       Area_m2  \\\n",
       "0 2024-06-29 00:00:00+00:00        42  None  1.398520e+11   \n",
       "\n",
       "                                 GlobalID  StaffID      EventCode Area_ha  \\\n",
       "0  {3EF96309-C5FD-4805-AE6C-271B7C907863}      213  FL20240502BGD    None   \n",
       "\n",
       "   SHAPE_Length  SHAPE_Area                                           geometry  \n",
       "0    110.307505   12.396584  MULTIPOLYGON (((89.24840 21.68909, 89.25006 21...  "
      ]
     },
     "execution_count": 65,
     "metadata": {},
     "output_type": "execute_result"
    }
   ],
   "source": [
    "from shapely.geometry import box\n",
    "df_aoi = gpd.read_file(p, layer='ST1_20240622_20240629_AnalysisExtent_Bangladesh')\n",
    "df_aoi = df_aoi.to_crs(4326)\n",
    "df_aoi.geometry = df_aoi.geometry.intersection(box(*df_event_f.total_bounds))\n",
    "df_aoi.head()"
   ]
  },
  {
   "cell_type": "code",
   "execution_count": 66,
   "id": "9be1b8bd-a478-47aa-a72b-110ad33c0869",
   "metadata": {},
   "outputs": [
    {
     "data": {
      "text/plain": [
       "<Axes: >"
      ]
     },
     "execution_count": 66,
     "metadata": {},
     "output_type": "execute_result"
    },
    {
     "data": {
      "image/png": "[encoded data removed]",
      "text/plain": [
       "<Figure size 640x480 with 1 Axes>"
      ]
     },
     "metadata": {},
     "output_type": "display_data"
    }
   ],
   "source": [
    "import matplotlib.pyplot as plt\n",
    "\n",
    "fig, ax = plt.subplots()\n",
    "df_aoi.boundary.plot(ax=ax)\n",
    "df_event_f.plot(ax=ax)"
   ]
  },
  {
   "cell_type": "code",
   "execution_count": 67,
   "id": "bfba5af6-4b33-40e0-b054-3d8056bfbc27",
   "metadata": {},
   "outputs": [],
   "source": [
    "EXTERNAL_VAL_EXTENTS = Path('../external_validation_data_extents_db/')\n",
    "EXTERNAL_VAL_EXTENTS.mkdir(exist_ok=True, parents=True)\n",
    "\n",
    "df_aoi.to_file(EXTERNAL_VAL_EXTENTS / f'{event_dict[\"event_name\"]}.geojson', driver='GeoJSON')"
   ]
  }
 ],
 "metadata": {
  "kernelspec": {
   "display_name": "dist-s1",
   "language": "python",
   "name": "dist-s1"
  },
  "language_info": {
   "codemirror_mode": {
    "name": "ipython",
    "version": 3
   },
   "file_extension": ".py",
   "mimetype": "text/x-python",
   "name": "python",
   "nbconvert_exporter": "python",
   "pygments_lexer": "ipython3",
   "version": "3.12.4"
  }
 },
 "nbformat": 4,
 "nbformat_minor": 5
}
