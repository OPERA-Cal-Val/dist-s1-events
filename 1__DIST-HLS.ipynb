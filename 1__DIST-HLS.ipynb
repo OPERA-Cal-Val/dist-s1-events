{
 "cells": [
  {
   "cell_type": "code",
   "execution_count": 1,
   "id": "f2bf5227-3dea-4b09-b899-2b4ed71b1656",
   "metadata": {
    "editable": true,
    "slideshow": {
     "slide_type": ""
    },
    "tags": []
   },
   "outputs": [],
   "source": [
    "import geopandas as gpd\n",
    "\n",
    "from pystac_client import Client  \n",
    "from pystac_client import ItemSearch\n",
    "from pystac.item import Item\n",
    "from shapely.geometry import box, shape\n",
    "import yaml\n",
    "from rasterio.crs import CRS\n",
    "import datetime\n",
    "import pandas as pd\n",
    "from pathlib import Path\n",
    "from tqdm import tqdm\n",
    "import rasterio\n",
    "from rasterio.merge import merge\n",
    "import numpy as np\n",
    "import asf_search as asf\n",
    "from dem_stitcher.rio_tools import reproject_arr_to_new_crs, reproject_arr_to_match_profile\n",
    "import shutil\n",
    "import numpy as np\n",
    "import matplotlib.pyplot as plt\n",
    "from shapely.ops import unary_union\n",
    "from shapely import force_2d\n",
    "import requests\n",
    "import backoff\n",
    "from requests.exceptions import HTTPError\n",
    "from mpire import WorkerPool"
   ]
  },
  {
   "cell_type": "markdown",
   "id": "7795048a-24f7-4fe6-b0a4-b76de0056940",
   "metadata": {
    "editable": true,
    "slideshow": {
     "slide_type": ""
    },
    "tags": []
   },
   "source": [
    "# Parameters"
   ]
  },
  {
   "cell_type": "code",
   "execution_count": 118,
   "id": "9716bafb-8ec0-475d-89cd-32d03b7cab76",
   "metadata": {
    "editable": true,
    "slideshow": {
     "slide_type": ""
    },
    "tags": [
     "parameters"
    ]
   },
   "outputs": [],
   "source": [
    "EVENT_NAME = 'chile_fire_2024'"
   ]
  },
  {
   "cell_type": "markdown",
   "id": "00e28f7d-b10d-4e2e-af00-18df80451740",
   "metadata": {
    "editable": true,
    "slideshow": {
     "slide_type": ""
    },
    "tags": []
   },
   "source": [
    "# Read Yaml"
   ]
  },
  {
   "cell_type": "code",
   "execution_count": 119,
   "id": "0ed73e31-10b7-4978-8132-a11383b28d6d",
   "metadata": {
    "editable": true,
    "slideshow": {
     "slide_type": ""
    },
    "tags": []
   },
   "outputs": [],
   "source": [
    "yaml_file = f'events/{EVENT_NAME}.yml' "
   ]
  },
  {
   "cell_type": "code",
   "execution_count": 120,
   "id": "2fbc8faa-5c1f-4699-9fca-acf379fd9147",
   "metadata": {
    "editable": true,
    "slideshow": {
     "slide_type": ""
    },
    "tags": []
   },
   "outputs": [
    {
     "data": {
      "text/plain": [
       "{'event_name': 'chile_fire_2024',\n",
       " 'bounds': [-71.53071089, -33.20143816, -71.2964628, -32.98270579],\n",
       " 'event_date': '2024-02-04',\n",
       " 'pre_event_window_days': 180,\n",
       " 'post_event_window_days': 100,\n",
       " 'rtc_track_numbers': [18, 156],\n",
       " 'mgrs_tiles': ['19HBD'],\n",
       " 'source_id': 'EMSR715 AOI1',\n",
       " 'dist_hls_confirmed_change_min_days': 30,\n",
       " 'links': ['https://earthobservatory.nasa.gov/images/152411/fires-rage-in-central-chile',\n",
       "  'https://en.wikipedia.org/wiki/2024_Chile_wildfires']}"
      ]
     },
     "execution_count": 120,
     "metadata": {},
     "output_type": "execute_result"
    }
   ],
   "source": [
    "with open(yaml_file) as f:\n",
    "    event_dict = yaml.safe_load(f)[\"event\"]\n",
    "event_dict"
   ]
  },
  {
   "cell_type": "code",
   "execution_count": 121,
   "id": "498f30da-5d0c-4672-a1aa-17fdfd78adb8",
   "metadata": {},
   "outputs": [
    {
     "data": {
      "text/html": [
       "<div>\n",
       "<style scoped>\n",
       "    .dataframe tbody tr th:only-of-type {\n",
       "        vertical-align: middle;\n",
       "    }\n",
       "\n",
       "    .dataframe tbody tr th {\n",
       "        vertical-align: top;\n",
       "    }\n",
       "\n",
       "    .dataframe thead th {\n",
       "        text-align: right;\n",
       "    }\n",
       "</style>\n",
       "<table border=\"1\" class=\"dataframe\">\n",
       "  <thead>\n",
       "    <tr style=\"text-align: right;\">\n",
       "      <th></th>\n",
       "      <th>tile_id</th>\n",
       "      <th>epsg</th>\n",
       "      <th>utm_wkt</th>\n",
       "      <th>geometry</th>\n",
       "    </tr>\n",
       "  </thead>\n",
       "  <tbody>\n",
       "    <tr>\n",
       "      <th>0</th>\n",
       "      <td>19HBD</td>\n",
       "      <td>32719</td>\n",
       "      <td>MULTIPOLYGON(((199980 6400000,199980 6290200,3...</td>\n",
       "      <td>MULTIPOLYGON (((-72.19295 -32.49681, -72.22880...</td>\n",
       "    </tr>\n",
       "  </tbody>\n",
       "</table>\n",
       "</div>"
      ],
      "text/plain": [
       "  tile_id    epsg                                            utm_wkt  \\\n",
       "0   19HBD   32719  MULTIPOLYGON(((199980 6400000,199980 6290200,3...   \n",
       "\n",
       "                                            geometry  \n",
       "0  MULTIPOLYGON (((-72.19295 -32.49681, -72.22880...  "
      ]
     },
     "execution_count": 121,
     "metadata": {},
     "output_type": "execute_result"
    }
   ],
   "source": [
    "df_mgrs = gpd.read_parquet('mgrs.parquet')\n",
    "df_mgrs_overlapping = df_mgrs[df_mgrs.tile_id.isin(event_dict['mgrs_tiles'])].reset_index(drop=True)\n",
    "df_mgrs_overlapping.head()"
   ]
  },
  {
   "cell_type": "code",
   "execution_count": 122,
   "id": "5e485ff0-9eae-43ed-8094-32937ddc73bb",
   "metadata": {},
   "outputs": [
    {
     "data": {
      "image/svg+xml": [
       "<svg xmlns=\"http://www.w3.org/2000/svg\" xmlns:xlink=\"http://www.w3.org/1999/xlink\" width=\"100.0\" height=\"100.0\" viewBox=\"-72.27694077545533 -33.55899721230003 1.2998639604777509 1.1103267899599558\" preserveAspectRatio=\"xMinYMin meet\"><g transform=\"matrix(1,0,0,-1,0,-66.0076676346401)\"><path fill-rule=\"evenodd\" fill=\"#66cc99\" stroke=\"#555555\" stroke-width=\"0.025997279209555017\" opacity=\"0.6\" d=\"M -71.0252199246249,-33.5108541026527 L -71.0252199246249,-32.4968135319874 L -72.228797665808,-32.4968135319874 L -72.228797665808,-33.5108541026527 L -71.0252199246249,-33.5108541026527 z\" /></g></svg>"
      ],
      "text/plain": [
       "<POLYGON ((-71.025 -33.511, -71.025 -32.497, -72.229 -32.497, -72.229 -33.51...>"
      ]
     },
     "execution_count": 122,
     "metadata": {},
     "output_type": "execute_result"
    }
   ],
   "source": [
    "mgrs_geo = box(*df_mgrs_overlapping.total_bounds)\n",
    "mgrs_geo"
   ]
  },
  {
   "cell_type": "code",
   "execution_count": 123,
   "id": "a6a44ab7-d18b-49b3-9d5a-0893a0b41665",
   "metadata": {},
   "outputs": [],
   "source": [
    "EVENT_DT = datetime.datetime.strptime(event_dict['event_date'], \"%Y-%m-%d\")\n",
    "PRE_DT_START = EVENT_DT - datetime.timedelta(days=event_dict['pre_event_window_days'])\n",
    "POST_DT_STOP = EVENT_DT + datetime.timedelta(days=event_dict['post_event_window_days'])"
   ]
  },
  {
   "cell_type": "code",
   "execution_count": 124,
   "id": "537991e4-f998-47b9-8f18-99f4d423fbd7",
   "metadata": {},
   "outputs": [],
   "source": [
    "stac = 'https://cmr.earthdata.nasa.gov/cloudstac/'    # CMR-STAC API Endpoint\n",
    "api = Client.open(f'{stac}/LPCLOUD/')\n",
    "collections = ['OPERA_L3_DIST-ALERT-HLS_V1']\n",
    "\n",
    "search_params = {\"collections\": collections,\n",
    "                 \"intersects\": mgrs_geo.__geo_interface__,\n",
    "                 \"datetime\": [EVENT_DT - datetime.timedelta(days=14), POST_DT_STOP],\n",
    "                 \"max_items\": 1_000}\n",
    "search_dswx = api.search(**search_params)"
   ]
  },
  {
   "cell_type": "code",
   "execution_count": 125,
   "id": "37f4101f-6854-4523-861a-b4c4d06d9ddc",
   "metadata": {},
   "outputs": [],
   "source": [
    "l = list(search_dswx.items())"
   ]
  },
  {
   "cell_type": "code",
   "execution_count": 126,
   "id": "a4e6da9a-fe02-4b52-a717-3841be23b211",
   "metadata": {},
   "outputs": [
    {
     "data": {
      "text/plain": [
       "(69, 460, 65)"
      ]
     },
     "execution_count": 126,
     "metadata": {},
     "output_type": "execute_result"
    }
   ],
   "source": [
    "def get_mgrs_tile_from_id(opera_id: str) -> str:\n",
    "    return opera_id.split('_')[3][1:]\n",
    "l_temp = list(filter(lambda item: get_mgrs_tile_from_id(item.id) in event_dict['mgrs_tiles'], l))\n",
    "tokens, opera_ids = [item.id.split('_') for item in l_temp], [item.id for item in l_temp]\n",
    "l_temp = sorted(l_temp, key=lambda item: item.id)\n",
    "id_dict = {}\n",
    "for t, opera_id in zip(tokens, opera_ids):\n",
    "    key = '_'.join(t[:5] + t[-3:])\n",
    "    # should be ordered by recency so overwriting means later processing date\n",
    "    id_dict[key]= opera_id\n",
    "ids = list(id_dict.values())\n",
    "l_f = [item for item in l_temp if item.id in ids]\n",
    "len(l_temp), len(l), len(l_f)"
   ]
  },
  {
   "cell_type": "code",
   "execution_count": 127,
   "id": "c277c2b0-e723-445b-bda7-0ffcf72938dc",
   "metadata": {},
   "outputs": [],
   "source": [
    "def format_item(item):\n",
    "    assets_status = [(key, value.href) for (key, value) in sorted(item.assets.items()) if ('STATUS' in value.href and '.tif' in value.href)]\n",
    "    assets_status_m = [('dist-veg-status', value) if 'VEG' in key else ('dist-gen-status', value) for (key, value) in assets_status]\n",
    "\n",
    "    assets_date = [(key, value.href) for (key, value) in sorted(item.assets.items()) if ('DATE' in value.href and '.tif' in value.href and 'LAST' not in value.href)]\n",
    "    assets_date_m = [('dist-veg-date', value) if 'VEG' in key else ('dist-gen-date', value) for (key, value) in assets_date]\n",
    "    \n",
    "    out = {**{'id': item.id}, \n",
    "           **item.properties, \n",
    "           **{'geometry': shape(item.geometry)},\n",
    "           **{key: value for (key, value) in assets_status_m + assets_date_m}\n",
    "          }\n",
    "    return out\n",
    "    "
   ]
  },
  {
   "cell_type": "code",
   "execution_count": 128,
   "id": "b5428347-9dee-484a-8047-1ca2c50d9aec",
   "metadata": {},
   "outputs": [
    {
     "data": {
      "text/html": [
       "<div>\n",
       "<style scoped>\n",
       "    .dataframe tbody tr th:only-of-type {\n",
       "        vertical-align: middle;\n",
       "    }\n",
       "\n",
       "    .dataframe tbody tr th {\n",
       "        vertical-align: top;\n",
       "    }\n",
       "\n",
       "    .dataframe thead th {\n",
       "        text-align: right;\n",
       "    }\n",
       "</style>\n",
       "<table border=\"1\" class=\"dataframe\">\n",
       "  <thead>\n",
       "    <tr style=\"text-align: right;\">\n",
       "      <th></th>\n",
       "      <th>id</th>\n",
       "      <th>eo:cloud_cover</th>\n",
       "      <th>datetime</th>\n",
       "      <th>start_datetime</th>\n",
       "      <th>end_datetime</th>\n",
       "      <th>geometry</th>\n",
       "      <th>dist-gen-status</th>\n",
       "      <th>dist-veg-status</th>\n",
       "      <th>dist-gen-date</th>\n",
       "      <th>dist-veg-date</th>\n",
       "      <th>acq_date</th>\n",
       "      <th>sensor</th>\n",
       "    </tr>\n",
       "  </thead>\n",
       "  <tbody>\n",
       "    <tr>\n",
       "      <th>0</th>\n",
       "      <td>OPERA_L3_DIST-ALERT-HLS_T19HBD_20240121T143345...</td>\n",
       "      <td>28</td>\n",
       "      <td>2024-01-21 14:33:45.246000+00:00</td>\n",
       "      <td>2024-01-21T14:33:45.246Z</td>\n",
       "      <td>2024-01-21T14:33:45.246Z</td>\n",
       "      <td>POLYGON ((-71.04798 -33.51085, -71.02522 -32.5...</td>\n",
       "      <td>https://data.lpdaac.earthdatacloud.nasa.gov/lp...</td>\n",
       "      <td>https://data.lpdaac.earthdatacloud.nasa.gov/lp...</td>\n",
       "      <td>https://data.lpdaac.earthdatacloud.nasa.gov/lp...</td>\n",
       "      <td>https://data.lpdaac.earthdatacloud.nasa.gov/lp...</td>\n",
       "      <td>2024-01-21</td>\n",
       "      <td>L8</td>\n",
       "    </tr>\n",
       "    <tr>\n",
       "      <th>1</th>\n",
       "      <td>OPERA_L3_DIST-ALERT-HLS_T19HBD_20240121T144729...</td>\n",
       "      <td>100</td>\n",
       "      <td>2024-01-21 15:02:01.854000+00:00</td>\n",
       "      <td>2024-01-21T15:02:01.854Z</td>\n",
       "      <td>2024-01-21T15:02:01.854Z</td>\n",
       "      <td>POLYGON ((-72.10176 -33.48894, -71.84087 -32.5...</td>\n",
       "      <td>https://data.lpdaac.earthdatacloud.nasa.gov/lp...</td>\n",
       "      <td>https://data.lpdaac.earthdatacloud.nasa.gov/lp...</td>\n",
       "      <td>https://data.lpdaac.earthdatacloud.nasa.gov/lp...</td>\n",
       "      <td>https://data.lpdaac.earthdatacloud.nasa.gov/lp...</td>\n",
       "      <td>2024-01-21</td>\n",
       "      <td>S2B</td>\n",
       "    </tr>\n",
       "    <tr>\n",
       "      <th>2</th>\n",
       "      <td>OPERA_L3_DIST-ALERT-HLS_T19HBD_20240123T143741...</td>\n",
       "      <td>79</td>\n",
       "      <td>2024-01-23 14:52:01.104000+00:00</td>\n",
       "      <td>2024-01-23T14:52:01.104Z</td>\n",
       "      <td>2024-01-23T14:52:01.104Z</td>\n",
       "      <td>POLYGON ((-71.04798 -33.51085, -71.02522 -32.5...</td>\n",
       "      <td>https://data.lpdaac.earthdatacloud.nasa.gov/lp...</td>\n",
       "      <td>https://data.lpdaac.earthdatacloud.nasa.gov/lp...</td>\n",
       "      <td>https://data.lpdaac.earthdatacloud.nasa.gov/lp...</td>\n",
       "      <td>https://data.lpdaac.earthdatacloud.nasa.gov/lp...</td>\n",
       "      <td>2024-01-23</td>\n",
       "      <td>S2A</td>\n",
       "    </tr>\n",
       "    <tr>\n",
       "      <th>3</th>\n",
       "      <td>OPERA_L3_DIST-ALERT-HLS_T19HBD_20240128T143739...</td>\n",
       "      <td>89</td>\n",
       "      <td>2024-01-28 14:52:05.896000+00:00</td>\n",
       "      <td>2024-01-28T14:52:05.896Z</td>\n",
       "      <td>2024-01-28T14:52:05.896Z</td>\n",
       "      <td>POLYGON ((-71.04798 -33.51085, -71.02522 -32.5...</td>\n",
       "      <td>https://data.lpdaac.earthdatacloud.nasa.gov/lp...</td>\n",
       "      <td>https://data.lpdaac.earthdatacloud.nasa.gov/lp...</td>\n",
       "      <td>https://data.lpdaac.earthdatacloud.nasa.gov/lp...</td>\n",
       "      <td>https://data.lpdaac.earthdatacloud.nasa.gov/lp...</td>\n",
       "      <td>2024-01-28</td>\n",
       "      <td>S2B</td>\n",
       "    </tr>\n",
       "    <tr>\n",
       "      <th>4</th>\n",
       "      <td>OPERA_L3_DIST-ALERT-HLS_T19HBD_20240128T143928...</td>\n",
       "      <td>99</td>\n",
       "      <td>2024-01-28 14:39:28.737000+00:00</td>\n",
       "      <td>2024-01-28T14:39:28.737Z</td>\n",
       "      <td>2024-01-28T14:39:52.692Z</td>\n",
       "      <td>POLYGON ((-71.29620 -33.50650, -71.03895 -32.5...</td>\n",
       "      <td>https://data.lpdaac.earthdatacloud.nasa.gov/lp...</td>\n",
       "      <td>https://data.lpdaac.earthdatacloud.nasa.gov/lp...</td>\n",
       "      <td>https://data.lpdaac.earthdatacloud.nasa.gov/lp...</td>\n",
       "      <td>https://data.lpdaac.earthdatacloud.nasa.gov/lp...</td>\n",
       "      <td>2024-01-28</td>\n",
       "      <td>L8</td>\n",
       "    </tr>\n",
       "  </tbody>\n",
       "</table>\n",
       "</div>"
      ],
      "text/plain": [
       "                                                  id  eo:cloud_cover  \\\n",
       "0  OPERA_L3_DIST-ALERT-HLS_T19HBD_20240121T143345...              28   \n",
       "1  OPERA_L3_DIST-ALERT-HLS_T19HBD_20240121T144729...             100   \n",
       "2  OPERA_L3_DIST-ALERT-HLS_T19HBD_20240123T143741...              79   \n",
       "3  OPERA_L3_DIST-ALERT-HLS_T19HBD_20240128T143739...              89   \n",
       "4  OPERA_L3_DIST-ALERT-HLS_T19HBD_20240128T143928...              99   \n",
       "\n",
       "                          datetime            start_datetime  \\\n",
       "0 2024-01-21 14:33:45.246000+00:00  2024-01-21T14:33:45.246Z   \n",
       "1 2024-01-21 15:02:01.854000+00:00  2024-01-21T15:02:01.854Z   \n",
       "2 2024-01-23 14:52:01.104000+00:00  2024-01-23T14:52:01.104Z   \n",
       "3 2024-01-28 14:52:05.896000+00:00  2024-01-28T14:52:05.896Z   \n",
       "4 2024-01-28 14:39:28.737000+00:00  2024-01-28T14:39:28.737Z   \n",
       "\n",
       "               end_datetime  \\\n",
       "0  2024-01-21T14:33:45.246Z   \n",
       "1  2024-01-21T15:02:01.854Z   \n",
       "2  2024-01-23T14:52:01.104Z   \n",
       "3  2024-01-28T14:52:05.896Z   \n",
       "4  2024-01-28T14:39:52.692Z   \n",
       "\n",
       "                                            geometry  \\\n",
       "0  POLYGON ((-71.04798 -33.51085, -71.02522 -32.5...   \n",
       "1  POLYGON ((-72.10176 -33.48894, -71.84087 -32.5...   \n",
       "2  POLYGON ((-71.04798 -33.51085, -71.02522 -32.5...   \n",
       "3  POLYGON ((-71.04798 -33.51085, -71.02522 -32.5...   \n",
       "4  POLYGON ((-71.29620 -33.50650, -71.03895 -32.5...   \n",
       "\n",
       "                                     dist-gen-status  \\\n",
       "0  https://data.lpdaac.earthdatacloud.nasa.gov/lp...   \n",
       "1  https://data.lpdaac.earthdatacloud.nasa.gov/lp...   \n",
       "2  https://data.lpdaac.earthdatacloud.nasa.gov/lp...   \n",
       "3  https://data.lpdaac.earthdatacloud.nasa.gov/lp...   \n",
       "4  https://data.lpdaac.earthdatacloud.nasa.gov/lp...   \n",
       "\n",
       "                                     dist-veg-status  \\\n",
       "0  https://data.lpdaac.earthdatacloud.nasa.gov/lp...   \n",
       "1  https://data.lpdaac.earthdatacloud.nasa.gov/lp...   \n",
       "2  https://data.lpdaac.earthdatacloud.nasa.gov/lp...   \n",
       "3  https://data.lpdaac.earthdatacloud.nasa.gov/lp...   \n",
       "4  https://data.lpdaac.earthdatacloud.nasa.gov/lp...   \n",
       "\n",
       "                                       dist-gen-date  \\\n",
       "0  https://data.lpdaac.earthdatacloud.nasa.gov/lp...   \n",
       "1  https://data.lpdaac.earthdatacloud.nasa.gov/lp...   \n",
       "2  https://data.lpdaac.earthdatacloud.nasa.gov/lp...   \n",
       "3  https://data.lpdaac.earthdatacloud.nasa.gov/lp...   \n",
       "4  https://data.lpdaac.earthdatacloud.nasa.gov/lp...   \n",
       "\n",
       "                                       dist-veg-date    acq_date sensor  \n",
       "0  https://data.lpdaac.earthdatacloud.nasa.gov/lp...  2024-01-21     L8  \n",
       "1  https://data.lpdaac.earthdatacloud.nasa.gov/lp...  2024-01-21    S2B  \n",
       "2  https://data.lpdaac.earthdatacloud.nasa.gov/lp...  2024-01-23    S2A  \n",
       "3  https://data.lpdaac.earthdatacloud.nasa.gov/lp...  2024-01-28    S2B  \n",
       "4  https://data.lpdaac.earthdatacloud.nasa.gov/lp...  2024-01-28     L8  "
      ]
     },
     "execution_count": 128,
     "metadata": {},
     "output_type": "execute_result"
    }
   ],
   "source": [
    "data = list(map(format_item, l_f))\n",
    "df_resp = pd.DataFrame(data)\n",
    "df_resp = gpd.GeoDataFrame(df_resp, geometry=df_resp.geometry, crs=CRS.from_epsg(4326))\n",
    "df_resp['datetime'] = pd.to_datetime(df_resp['datetime'])\n",
    "df_resp['acq_date']= df_resp['datetime'].dt.date\n",
    "df_resp['sensor'] = df_resp['id'].map(lambda oid: oid.split('_')[-3]) \n",
    "df_resp.head()"
   ]
  },
  {
   "cell_type": "code",
   "execution_count": 129,
   "id": "a000ec41-f6ab-41dc-95ff-b0a45febdd3d",
   "metadata": {},
   "outputs": [
    {
     "data": {
      "text/plain": [
       "<Axes: >"
      ]
     },
     "execution_count": 129,
     "metadata": {},
     "output_type": "execute_result"
    },
    {
     "data": {
      "image/png": "[encoded data removed]",
      "text/plain": [
       "<Figure size 640x480 with 1 Axes>"
      ]
     },
     "metadata": {},
     "output_type": "display_data"
    }
   ],
   "source": [
    "fig, ax = plt.subplots()\n",
    "df_resp.exterior.plot(ax = ax)"
   ]
  },
  {
   "cell_type": "code",
   "execution_count": 130,
   "id": "9110a085-4a6d-41ef-9c88-a13820a21820",
   "metadata": {},
   "outputs": [
    {
     "data": {
      "text/plain": [
       "array([datetime.date(2024, 1, 21), datetime.date(2024, 1, 23),\n",
       "       datetime.date(2024, 1, 28), datetime.date(2024, 1, 29),\n",
       "       datetime.date(2024, 2, 2), datetime.date(2024, 2, 5),\n",
       "       datetime.date(2024, 2, 6), datetime.date(2024, 2, 7),\n",
       "       datetime.date(2024, 2, 10), datetime.date(2024, 2, 12),\n",
       "       datetime.date(2024, 2, 13), datetime.date(2024, 2, 14),\n",
       "       datetime.date(2024, 2, 17), datetime.date(2024, 2, 20),\n",
       "       datetime.date(2024, 2, 21), datetime.date(2024, 2, 22),\n",
       "       datetime.date(2024, 2, 25), datetime.date(2024, 2, 27),\n",
       "       datetime.date(2024, 2, 29), datetime.date(2024, 3, 1),\n",
       "       datetime.date(2024, 3, 3), datetime.date(2024, 3, 6),\n",
       "       datetime.date(2024, 3, 9), datetime.date(2024, 3, 13),\n",
       "       datetime.date(2024, 3, 16), datetime.date(2024, 3, 17),\n",
       "       datetime.date(2024, 3, 18), datetime.date(2024, 3, 21),\n",
       "       datetime.date(2024, 3, 23), datetime.date(2024, 3, 24),\n",
       "       datetime.date(2024, 3, 25), datetime.date(2024, 3, 28),\n",
       "       datetime.date(2024, 3, 31), datetime.date(2024, 4, 1),\n",
       "       datetime.date(2024, 4, 2), datetime.date(2024, 4, 5),\n",
       "       datetime.date(2024, 4, 7), datetime.date(2024, 4, 9),\n",
       "       datetime.date(2024, 4, 10), datetime.date(2024, 4, 12),\n",
       "       datetime.date(2024, 4, 15), datetime.date(2024, 4, 17),\n",
       "       datetime.date(2024, 4, 18), datetime.date(2024, 4, 20),\n",
       "       datetime.date(2024, 4, 22), datetime.date(2024, 4, 25),\n",
       "       datetime.date(2024, 4, 26), datetime.date(2024, 4, 27),\n",
       "       datetime.date(2024, 4, 30), datetime.date(2024, 5, 2),\n",
       "       datetime.date(2024, 5, 3), datetime.date(2024, 5, 4),\n",
       "       datetime.date(2024, 5, 5), datetime.date(2024, 5, 7),\n",
       "       datetime.date(2024, 5, 10), datetime.date(2024, 5, 11),\n",
       "       datetime.date(2024, 5, 12)], dtype=object)"
      ]
     },
     "execution_count": 130,
     "metadata": {},
     "output_type": "execute_result"
    }
   ],
   "source": [
    "df_resp.acq_date.unique()"
   ]
  },
  {
   "cell_type": "code",
   "execution_count": 131,
   "id": "4b5e9be1-4f22-48b3-9a1e-a9c313a73c05",
   "metadata": {},
   "outputs": [],
   "source": [
    "dist_hls_dir = Path('out') / event_dict['event_name'] / 'dist_hls'\n",
    "dist_hls_dir.mkdir(exist_ok=True, parents=True)"
   ]
  },
  {
   "cell_type": "code",
   "execution_count": 132,
   "id": "66ecf4a8-0d3a-4976-adf2-ff2e96e7e84b",
   "metadata": {
    "scrolled": true
   },
   "outputs": [],
   "source": [
    "zipped_inputs = []\n",
    "\n",
    "for (sensor, date), df_rtc_date in df_resp.groupby(['sensor', 'acq_date']):\n",
    "    dist_veg = df_rtc_date['dist-veg-status'].tolist()\n",
    "    dist_gen = df_rtc_date['dist-gen-status'].tolist()\n",
    "\n",
    "    dist_veg_date = df_rtc_date['dist-veg-date'].tolist()\n",
    "    dist_gen_date = df_rtc_date['dist-gen-date'].tolist()\n",
    "    \n",
    "    date_dir = dist_hls_dir / f'{str(date)}__{sensor}'\n",
    "    date_dir.mkdir(exist_ok=True, parents=True)\n",
    "\n",
    "    zipped_inputs.extend([(url, date_dir) for url in dist_veg + dist_gen + dist_veg_date + dist_gen_date])"
   ]
  },
  {
   "cell_type": "code",
   "execution_count": 133,
   "id": "ad18a553-4be6-42bf-8a4a-a8a316bca60c",
   "metadata": {},
   "outputs": [],
   "source": [
    "@backoff.on_exception(\n",
    "    backoff.expo,\n",
    "    [ConnectionError, HTTPError],\n",
    "    max_tries=10,\n",
    "    max_time=60,\n",
    "    jitter=backoff.full_jitter,\n",
    ")\n",
    "def localize_one_file(\n",
    "    url: str,\n",
    "    dst_dir: str | Path\n",
    ") -> Path:\n",
    "    local_fn = url.split(\"/\")[-1]\n",
    "    out_path = dst_dir / local_fn\n",
    "    if not dst_dir.exists():\n",
    "        dst_dir.mkdir(parents=True)\n",
    "    if out_path.exists():\n",
    "        return out_path\n",
    "        \n",
    "    with requests.get(url, stream=True) as r:\n",
    "        r.raise_for_status()\n",
    "        with open(out_path, 'wb') as f:\n",
    "            for chunk in r.iter_content(chunk_size=16384): \n",
    "                f.write(chunk)\n",
    "    return out_path"
   ]
  },
  {
   "cell_type": "code",
   "execution_count": 134,
   "id": "e6ad92ba-6f1e-414a-80c9-220ed4070f7f",
   "metadata": {},
   "outputs": [
    {
     "data": {
      "text/plain": [
       "[('https://data.lpdaac.earthdatacloud.nasa.gov/lp-prod-protected/OPERA_L3_DIST-ALERT-HLS_V1/OPERA_L3_DIST-ALERT-HLS_T19HBD_20240121T143345Z_20240208T145823Z_L8_30_v1/OPERA_L3_DIST-ALERT-HLS_T19HBD_20240121T143345Z_20240208T145823Z_L8_30_v1_VEG-DIST-STATUS.tif',\n",
       "  PosixPath('out/chile_fire_2024/dist_hls/2024-01-21__L8')),\n",
       " ('https://data.lpdaac.earthdatacloud.nasa.gov/lp-prod-protected/OPERA_L3_DIST-ALERT-HLS_V1/OPERA_L3_DIST-ALERT-HLS_T19HBD_20240121T143345Z_20240208T145823Z_L8_30_v1/OPERA_L3_DIST-ALERT-HLS_T19HBD_20240121T143345Z_20240208T145823Z_L8_30_v1_GEN-DIST-STATUS.tif',\n",
       "  PosixPath('out/chile_fire_2024/dist_hls/2024-01-21__L8')),\n",
       " ('https://data.lpdaac.earthdatacloud.nasa.gov/lp-prod-protected/OPERA_L3_DIST-ALERT-HLS_V1/OPERA_L3_DIST-ALERT-HLS_T19HBD_20240121T143345Z_20240208T145823Z_L8_30_v1/OPERA_L3_DIST-ALERT-HLS_T19HBD_20240121T143345Z_20240208T145823Z_L8_30_v1_VEG-DIST-DATE.tif',\n",
       "  PosixPath('out/chile_fire_2024/dist_hls/2024-01-21__L8'))]"
      ]
     },
     "execution_count": 134,
     "metadata": {},
     "output_type": "execute_result"
    }
   ],
   "source": [
    "zipped_inputs[:3]"
   ]
  },
  {
   "cell_type": "code",
   "execution_count": 135,
   "id": "5f9a1883-7f90-4f3e-ab5e-cd1601ceacdb",
   "metadata": {},
   "outputs": [
    {
     "data": {
      "text/plain": [
       "PosixPath('out/chile_fire_2024/dist_hls/2024-01-21__L8/OPERA_L3_DIST-ALERT-HLS_T19HBD_20240121T143345Z_20240208T145823Z_L8_30_v1_VEG-DIST-STATUS.tif')"
      ]
     },
     "execution_count": 135,
     "metadata": {},
     "output_type": "execute_result"
    }
   ],
   "source": [
    "localize_one_file(*zipped_inputs[0])"
   ]
  },
  {
   "cell_type": "code",
   "execution_count": 136,
   "id": "0b4b87f0-a3f8-4473-8363-fd33a151e69c",
   "metadata": {},
   "outputs": [
    {
     "name": "stderr",
     "output_type": "stream",
     "text": [
      " 23%|█████████▎                               | 59/260 [00:27<01:32,  2.17it/s]\n"
     ]
    },
    {
     "ename": "TypeError",
     "evalue": "catching classes that do not inherit from BaseException is not allowed",
     "output_type": "error",
     "traceback": [
      "\u001b[0;31m---------------------------------------------------------------------------\u001b[0m",
      "\u001b[0;31mHTTPError\u001b[0m                                 Traceback (most recent call last)",
      "File \u001b[0;32m~/miniforge3/envs/dist-s1/lib/python3.12/site-packages/backoff/_sync.py:105\u001b[0m, in \u001b[0;36mretry_exception.<locals>.retry\u001b[0;34m(*args, **kwargs)\u001b[0m\n\u001b[1;32m    104\u001b[0m \u001b[38;5;28;01mtry\u001b[39;00m:\n\u001b[0;32m--> 105\u001b[0m     ret \u001b[38;5;241m=\u001b[39m \u001b[43mtarget\u001b[49m\u001b[43m(\u001b[49m\u001b[38;5;241;43m*\u001b[39;49m\u001b[43margs\u001b[49m\u001b[43m,\u001b[49m\u001b[43m \u001b[49m\u001b[38;5;241;43m*\u001b[39;49m\u001b[38;5;241;43m*\u001b[39;49m\u001b[43mkwargs\u001b[49m\u001b[43m)\u001b[49m\n\u001b[1;32m    106\u001b[0m \u001b[38;5;28;01mexcept\u001b[39;00m exception \u001b[38;5;28;01mas\u001b[39;00m e:\n",
      "Cell \u001b[0;32mIn[133], line 20\u001b[0m, in \u001b[0;36mlocalize_one_file\u001b[0;34m(url, dst_dir)\u001b[0m\n\u001b[1;32m     19\u001b[0m \u001b[38;5;28;01mwith\u001b[39;00m requests\u001b[38;5;241m.\u001b[39mget(url, stream\u001b[38;5;241m=\u001b[39m\u001b[38;5;28;01mTrue\u001b[39;00m) \u001b[38;5;28;01mas\u001b[39;00m r:\n\u001b[0;32m---> 20\u001b[0m     \u001b[43mr\u001b[49m\u001b[38;5;241;43m.\u001b[39;49m\u001b[43mraise_for_status\u001b[49m\u001b[43m(\u001b[49m\u001b[43m)\u001b[49m\n\u001b[1;32m     21\u001b[0m     \u001b[38;5;28;01mwith\u001b[39;00m \u001b[38;5;28mopen\u001b[39m(out_path, \u001b[38;5;124m'\u001b[39m\u001b[38;5;124mwb\u001b[39m\u001b[38;5;124m'\u001b[39m) \u001b[38;5;28;01mas\u001b[39;00m f:\n",
      "File \u001b[0;32m~/miniforge3/envs/dist-s1/lib/python3.12/site-packages/requests/models.py:1024\u001b[0m, in \u001b[0;36mResponse.raise_for_status\u001b[0;34m(self)\u001b[0m\n\u001b[1;32m   1023\u001b[0m \u001b[38;5;28;01mif\u001b[39;00m http_error_msg:\n\u001b[0;32m-> 1024\u001b[0m     \u001b[38;5;28;01mraise\u001b[39;00m HTTPError(http_error_msg, response\u001b[38;5;241m=\u001b[39m\u001b[38;5;28mself\u001b[39m)\n",
      "\u001b[0;31mHTTPError\u001b[0m: 502 Server Error: Bad Gateway for url: https://data.lpdaac.earthdatacloud.nasa.gov/login?code=iRaicIQ3mq_7KCp0S2rfHGS8ENzbOmple3Mr0XyZBBZBj166nXTyKqXlJkwRhsBfV03J&state=%2Flp-prod-protected%2FOPERA_L3_DIST-ALERT-HLS_V1%2FOPERA_L3_DIST-ALERT-HLS_T19HBD_20240512T143253Z_20240514T082136Z_L8_30_v1%2FOPERA_L3_DIST-ALERT-HLS_T19HBD_20240512T143253Z_20240514T082136Z_L8_30_v1_GEN-DIST-DATE.tif",
      "\nDuring handling of the above exception, another exception occurred:\n",
      "\u001b[0;31mTypeError\u001b[0m                                 Traceback (most recent call last)",
      "Cell \u001b[0;32mIn[136], line 7\u001b[0m\n\u001b[1;32m      4\u001b[0m     \u001b[38;5;28;01mreturn\u001b[39;00m localize_one_file(\u001b[38;5;241m*\u001b[39mdata)\n\u001b[1;32m      6\u001b[0m \u001b[38;5;28;01mwith\u001b[39;00m concurrent\u001b[38;5;241m.\u001b[39mfutures\u001b[38;5;241m.\u001b[39mThreadPoolExecutor(max_workers\u001b[38;5;241m=\u001b[39m\u001b[38;5;241m10\u001b[39m) \u001b[38;5;28;01mas\u001b[39;00m executor:\n\u001b[0;32m----> 7\u001b[0m     out_paths \u001b[38;5;241m=\u001b[39m \u001b[38;5;28;43mlist\u001b[39;49m\u001b[43m(\u001b[49m\u001b[43mtqdm\u001b[49m\u001b[43m(\u001b[49m\u001b[43mexecutor\u001b[49m\u001b[38;5;241;43m.\u001b[39;49m\u001b[43mmap\u001b[49m\u001b[43m(\u001b[49m\u001b[43mlocalize_one_file_p\u001b[49m\u001b[43m,\u001b[49m\u001b[43m \u001b[49m\u001b[43mzipped_inputs\u001b[49m\u001b[43m[\u001b[49m\u001b[43m:\u001b[49m\u001b[43m]\u001b[49m\u001b[43m)\u001b[49m\u001b[43m,\u001b[49m\u001b[43m \u001b[49m\u001b[43mtotal\u001b[49m\u001b[38;5;241;43m=\u001b[39;49m\u001b[38;5;28;43mlen\u001b[39;49m\u001b[43m(\u001b[49m\u001b[43mzipped_inputs\u001b[49m\u001b[43m)\u001b[49m\u001b[43m)\u001b[49m\u001b[43m)\u001b[49m\n",
      "File \u001b[0;32m~/miniforge3/envs/dist-s1/lib/python3.12/site-packages/tqdm/std.py:1181\u001b[0m, in \u001b[0;36mtqdm.__iter__\u001b[0;34m(self)\u001b[0m\n\u001b[1;32m   1178\u001b[0m time \u001b[38;5;241m=\u001b[39m \u001b[38;5;28mself\u001b[39m\u001b[38;5;241m.\u001b[39m_time\n\u001b[1;32m   1180\u001b[0m \u001b[38;5;28;01mtry\u001b[39;00m:\n\u001b[0;32m-> 1181\u001b[0m \u001b[43m    \u001b[49m\u001b[38;5;28;43;01mfor\u001b[39;49;00m\u001b[43m \u001b[49m\u001b[43mobj\u001b[49m\u001b[43m \u001b[49m\u001b[38;5;129;43;01min\u001b[39;49;00m\u001b[43m \u001b[49m\u001b[43miterable\u001b[49m\u001b[43m:\u001b[49m\n\u001b[1;32m   1182\u001b[0m \u001b[43m        \u001b[49m\u001b[38;5;28;43;01myield\u001b[39;49;00m\u001b[43m \u001b[49m\u001b[43mobj\u001b[49m\n\u001b[1;32m   1183\u001b[0m \u001b[43m        \u001b[49m\u001b[38;5;66;43;03m# Update and possibly print the progressbar.\u001b[39;49;00m\n\u001b[1;32m   1184\u001b[0m \u001b[43m        \u001b[49m\u001b[38;5;66;43;03m# Note: does not call self.update(1) for speed optimisation.\u001b[39;49;00m\n",
      "File \u001b[0;32m~/miniforge3/envs/dist-s1/lib/python3.12/concurrent/futures/_base.py:619\u001b[0m, in \u001b[0;36mExecutor.map.<locals>.result_iterator\u001b[0;34m()\u001b[0m\n\u001b[1;32m    616\u001b[0m \u001b[38;5;28;01mwhile\u001b[39;00m fs:\n\u001b[1;32m    617\u001b[0m     \u001b[38;5;66;03m# Careful not to keep a reference to the popped future\u001b[39;00m\n\u001b[1;32m    618\u001b[0m     \u001b[38;5;28;01mif\u001b[39;00m timeout \u001b[38;5;129;01mis\u001b[39;00m \u001b[38;5;28;01mNone\u001b[39;00m:\n\u001b[0;32m--> 619\u001b[0m         \u001b[38;5;28;01myield\u001b[39;00m \u001b[43m_result_or_cancel\u001b[49m\u001b[43m(\u001b[49m\u001b[43mfs\u001b[49m\u001b[38;5;241;43m.\u001b[39;49m\u001b[43mpop\u001b[49m\u001b[43m(\u001b[49m\u001b[43m)\u001b[49m\u001b[43m)\u001b[49m\n\u001b[1;32m    620\u001b[0m     \u001b[38;5;28;01melse\u001b[39;00m:\n\u001b[1;32m    621\u001b[0m         \u001b[38;5;28;01myield\u001b[39;00m _result_or_cancel(fs\u001b[38;5;241m.\u001b[39mpop(), end_time \u001b[38;5;241m-\u001b[39m time\u001b[38;5;241m.\u001b[39mmonotonic())\n",
      "File \u001b[0;32m~/miniforge3/envs/dist-s1/lib/python3.12/concurrent/futures/_base.py:317\u001b[0m, in \u001b[0;36m_result_or_cancel\u001b[0;34m(***failed resolving arguments***)\u001b[0m\n\u001b[1;32m    315\u001b[0m \u001b[38;5;28;01mtry\u001b[39;00m:\n\u001b[1;32m    316\u001b[0m     \u001b[38;5;28;01mtry\u001b[39;00m:\n\u001b[0;32m--> 317\u001b[0m         \u001b[38;5;28;01mreturn\u001b[39;00m \u001b[43mfut\u001b[49m\u001b[38;5;241;43m.\u001b[39;49m\u001b[43mresult\u001b[49m\u001b[43m(\u001b[49m\u001b[43mtimeout\u001b[49m\u001b[43m)\u001b[49m\n\u001b[1;32m    318\u001b[0m     \u001b[38;5;28;01mfinally\u001b[39;00m:\n\u001b[1;32m    319\u001b[0m         fut\u001b[38;5;241m.\u001b[39mcancel()\n",
      "File \u001b[0;32m~/miniforge3/envs/dist-s1/lib/python3.12/concurrent/futures/_base.py:456\u001b[0m, in \u001b[0;36mFuture.result\u001b[0;34m(self, timeout)\u001b[0m\n\u001b[1;32m    454\u001b[0m     \u001b[38;5;28;01mraise\u001b[39;00m CancelledError()\n\u001b[1;32m    455\u001b[0m \u001b[38;5;28;01melif\u001b[39;00m \u001b[38;5;28mself\u001b[39m\u001b[38;5;241m.\u001b[39m_state \u001b[38;5;241m==\u001b[39m FINISHED:\n\u001b[0;32m--> 456\u001b[0m     \u001b[38;5;28;01mreturn\u001b[39;00m \u001b[38;5;28;43mself\u001b[39;49m\u001b[38;5;241;43m.\u001b[39;49m\u001b[43m__get_result\u001b[49m\u001b[43m(\u001b[49m\u001b[43m)\u001b[49m\n\u001b[1;32m    457\u001b[0m \u001b[38;5;28;01melse\u001b[39;00m:\n\u001b[1;32m    458\u001b[0m     \u001b[38;5;28;01mraise\u001b[39;00m \u001b[38;5;167;01mTimeoutError\u001b[39;00m()\n",
      "File \u001b[0;32m~/miniforge3/envs/dist-s1/lib/python3.12/concurrent/futures/_base.py:401\u001b[0m, in \u001b[0;36mFuture.__get_result\u001b[0;34m(self)\u001b[0m\n\u001b[1;32m    399\u001b[0m \u001b[38;5;28;01mif\u001b[39;00m \u001b[38;5;28mself\u001b[39m\u001b[38;5;241m.\u001b[39m_exception:\n\u001b[1;32m    400\u001b[0m     \u001b[38;5;28;01mtry\u001b[39;00m:\n\u001b[0;32m--> 401\u001b[0m         \u001b[38;5;28;01mraise\u001b[39;00m \u001b[38;5;28mself\u001b[39m\u001b[38;5;241m.\u001b[39m_exception\n\u001b[1;32m    402\u001b[0m     \u001b[38;5;28;01mfinally\u001b[39;00m:\n\u001b[1;32m    403\u001b[0m         \u001b[38;5;66;03m# Break a reference cycle with the exception in self._exception\u001b[39;00m\n\u001b[1;32m    404\u001b[0m         \u001b[38;5;28mself\u001b[39m \u001b[38;5;241m=\u001b[39m \u001b[38;5;28;01mNone\u001b[39;00m\n",
      "File \u001b[0;32m~/miniforge3/envs/dist-s1/lib/python3.12/concurrent/futures/thread.py:58\u001b[0m, in \u001b[0;36m_WorkItem.run\u001b[0;34m(self)\u001b[0m\n\u001b[1;32m     55\u001b[0m     \u001b[38;5;28;01mreturn\u001b[39;00m\n\u001b[1;32m     57\u001b[0m \u001b[38;5;28;01mtry\u001b[39;00m:\n\u001b[0;32m---> 58\u001b[0m     result \u001b[38;5;241m=\u001b[39m \u001b[38;5;28;43mself\u001b[39;49m\u001b[38;5;241;43m.\u001b[39;49m\u001b[43mfn\u001b[49m\u001b[43m(\u001b[49m\u001b[38;5;241;43m*\u001b[39;49m\u001b[38;5;28;43mself\u001b[39;49m\u001b[38;5;241;43m.\u001b[39;49m\u001b[43margs\u001b[49m\u001b[43m,\u001b[49m\u001b[43m \u001b[49m\u001b[38;5;241;43m*\u001b[39;49m\u001b[38;5;241;43m*\u001b[39;49m\u001b[38;5;28;43mself\u001b[39;49m\u001b[38;5;241;43m.\u001b[39;49m\u001b[43mkwargs\u001b[49m\u001b[43m)\u001b[49m\n\u001b[1;32m     59\u001b[0m \u001b[38;5;28;01mexcept\u001b[39;00m \u001b[38;5;167;01mBaseException\u001b[39;00m \u001b[38;5;28;01mas\u001b[39;00m exc:\n\u001b[1;32m     60\u001b[0m     \u001b[38;5;28mself\u001b[39m\u001b[38;5;241m.\u001b[39mfuture\u001b[38;5;241m.\u001b[39mset_exception(exc)\n",
      "Cell \u001b[0;32mIn[136], line 4\u001b[0m, in \u001b[0;36mlocalize_one_file_p\u001b[0;34m(data)\u001b[0m\n\u001b[1;32m      3\u001b[0m \u001b[38;5;28;01mdef\u001b[39;00m \u001b[38;5;21mlocalize_one_file_p\u001b[39m(data: \u001b[38;5;28mtuple\u001b[39m) \u001b[38;5;241m-\u001b[39m\u001b[38;5;241m>\u001b[39m Path:\n\u001b[0;32m----> 4\u001b[0m     \u001b[38;5;28;01mreturn\u001b[39;00m \u001b[43mlocalize_one_file\u001b[49m\u001b[43m(\u001b[49m\u001b[38;5;241;43m*\u001b[39;49m\u001b[43mdata\u001b[49m\u001b[43m)\u001b[49m\n",
      "File \u001b[0;32m~/miniforge3/envs/dist-s1/lib/python3.12/site-packages/backoff/_sync.py:106\u001b[0m, in \u001b[0;36mretry_exception.<locals>.retry\u001b[0;34m(*args, **kwargs)\u001b[0m\n\u001b[1;32m    104\u001b[0m \u001b[38;5;28;01mtry\u001b[39;00m:\n\u001b[1;32m    105\u001b[0m     ret \u001b[38;5;241m=\u001b[39m target(\u001b[38;5;241m*\u001b[39margs, \u001b[38;5;241m*\u001b[39m\u001b[38;5;241m*\u001b[39mkwargs)\n\u001b[0;32m--> 106\u001b[0m \u001b[38;5;28;01mexcept\u001b[39;00m exception \u001b[38;5;28;01mas\u001b[39;00m e:\n\u001b[1;32m    107\u001b[0m     max_tries_exceeded \u001b[38;5;241m=\u001b[39m (tries \u001b[38;5;241m==\u001b[39m max_tries_value)\n\u001b[1;32m    108\u001b[0m     max_time_exceeded \u001b[38;5;241m=\u001b[39m (max_time_value \u001b[38;5;129;01mis\u001b[39;00m \u001b[38;5;129;01mnot\u001b[39;00m \u001b[38;5;28;01mNone\u001b[39;00m \u001b[38;5;129;01mand\u001b[39;00m\n\u001b[1;32m    109\u001b[0m                          elapsed \u001b[38;5;241m>\u001b[39m\u001b[38;5;241m=\u001b[39m max_time_value)\n",
      "\u001b[0;31mTypeError\u001b[0m: catching classes that do not inherit from BaseException is not allowed"
     ]
    }
   ],
   "source": [
    "import concurrent.futures\n",
    "\n",
    "def localize_one_file_p(data: tuple) -> Path:\n",
    "    return localize_one_file(*data)\n",
    "\n",
    "with concurrent.futures.ThreadPoolExecutor(max_workers=10) as executor:\n",
    "    out_paths = list(tqdm(executor.map(localize_one_file_p, zipped_inputs[:]), total=len(zipped_inputs)))"
   ]
  },
  {
   "cell_type": "markdown",
   "id": "7ff8f55a-3410-4a7d-921b-acbbb5ee27f3",
   "metadata": {},
   "source": [
    "# Merge"
   ]
  },
  {
   "cell_type": "code",
   "execution_count": null,
   "id": "312b6730-f35d-4af9-b9c0-552f88622eb6",
   "metadata": {},
   "outputs": [],
   "source": [
    "all_acq_dirs = sorted([acq_dir for acq_dir in dist_hls_dir.glob('*')])\n",
    "all_acq_dirs = list(filter(lambda p: p.is_dir(), all_acq_dirs))\n",
    "all_acq_dirs[:3]"
   ]
  },
  {
   "cell_type": "code",
   "execution_count": null,
   "id": "910eee8f-534e-4c4a-81be-b540f7adac7b",
   "metadata": {},
   "outputs": [],
   "source": [
    "import concurrent.futures\n",
    "import warnings\n",
    "from typing import Union\n",
    "\n",
    "import numpy as np\n",
    "import rasterio\n",
    "from rasterio.crs import CRS\n",
    "from rasterio.enums import Resampling\n",
    "from rasterio.io import MemoryFile\n",
    "from rasterio.merge import merge\n",
    "from rasterio.windows import Window\n",
    "from shapely.geometry import box\n",
    "from tqdm import tqdm\n",
    "\n",
    "def merge_arrays_with_geometadata(\n",
    "    arrays: list[np.ndarray],\n",
    "    profiles: list[dict],\n",
    "    resampling='bilinear',\n",
    "    nodata = None,\n",
    "    dtype: str = None,\n",
    "    method='first',\n",
    ") -> tuple[np.ndarray, dict]:\n",
    "    n_dim = arrays[0].shape\n",
    "    if len(n_dim) not in [2, 3]:\n",
    "        raise ValueError('Currently arrays must be in BIP format' 'i.e. channels x height x width or flat array')\n",
    "    if len(set([len(arr.shape) for arr in arrays])) != 1:\n",
    "        raise ValueError('All arrays must have same number of dimensions i.e. 2 or 3')\n",
    "\n",
    "    if len(n_dim) == 2:\n",
    "        arrays_input = [arr[np.newaxis, ...] for arr in arrays]\n",
    "    else:\n",
    "        arrays_input = arrays\n",
    "\n",
    "    if (len(arrays)) != (len(profiles)):\n",
    "        raise ValueError('Length of arrays and profiles needs to be the same')\n",
    "\n",
    "    memfiles = [MemoryFile() for p in profiles]\n",
    "    datasets = [mfile.open(**p) for (mfile, p) in zip(memfiles, profiles)]\n",
    "    [ds.write(arr) for (ds, arr) in zip(datasets, arrays_input)]\n",
    "\n",
    "    if dtype is None:\n",
    "        dst_dtype = profiles[0]['dtype']\n",
    "    if nodata is None:\n",
    "        dst_nodata = profiles[0]['nodata']\n",
    "\n",
    "    merged_arr, merged_trans = merge(\n",
    "        datasets, resampling=Resampling[resampling], method=method, nodata=dst_nodata, dtype=dst_dtype\n",
    "    )\n",
    "\n",
    "    prof_merged = profiles[0].copy()\n",
    "    prof_merged['transform'] = merged_trans\n",
    "    prof_merged['count'] = merged_arr.shape[0]\n",
    "    prof_merged['height'] = merged_arr.shape[1]\n",
    "    prof_merged['width'] = merged_arr.shape[2]\n",
    "    prof_merged['nodata'] = dst_nodata\n",
    "    prof_merged['dtype'] = dst_dtype\n",
    "    \n",
    "    [ds.close() for ds in datasets]\n",
    "    [mfile.close() for mfile in memfiles]\n",
    "\n",
    "    return merged_arr, prof_merged"
   ]
  },
  {
   "cell_type": "code",
   "execution_count": null,
   "id": "41471056-8dbf-40dc-97fc-e0fbc9054295",
   "metadata": {},
   "outputs": [],
   "source": [
    "def get_crs(path: str) -> Path:\n",
    "    with rasterio.open(path) as ds:\n",
    "        crs = ds.crs\n",
    "    return crs\n",
    "\n",
    "def get_profile(path: Path) -> dict:\n",
    "    with rasterio.open(path) as ds:\n",
    "        p = ds.profile\n",
    "    return p\n",
    "\n",
    "\n",
    "def read_one(path: Path) -> tuple:\n",
    "    with rasterio.open(path) as ds:\n",
    "        p = ds.profile\n",
    "        X = ds.read()\n",
    "    return X, p\n",
    "\n",
    "def merge_one_dir(acq_dir: Path, layer='gen-status') -> list:\n",
    "    reg_dict = {'gen-status': 'GEN-DIST-STATUS.tif',\n",
    "                'gen-date': 'GEN-DIST-DATE.tif',\n",
    "                'veg-status': 'VEG-DIST-STATUS.tif',\n",
    "                'veg-date': 'VEG-DIST-DATE.tif'}\n",
    "\n",
    "    if layer not in reg_dict.keys():\n",
    "        raise ValueError('layer not correctly specified')\n",
    "    all_img_paths = sorted(list(acq_dir.glob(f'OPERA*{reg_dict[layer]}')))\n",
    "    crs_l = list(map(get_crs, all_img_paths))\n",
    "    \n",
    "    \n",
    "    stem = acq_dir.stem\n",
    "    dst_path = acq_dir / f'__{stem}_{layer}_merged.tif'\n",
    "    if len(list(set(crs_l))) == 1:\n",
    "        merge(all_img_paths, method='first', dst_path=dst_path)\n",
    "    else:\n",
    "        profiles = list(map(get_profile, all_img_paths))\n",
    "        ref_crs = crs_l[0]\n",
    "        ref_profile = profiles[0]\n",
    "\n",
    "        if 'status' in layer:\n",
    "            with rasterio.open(all_img_paths[0]) as ds:\n",
    "                cmap = ds.colormap(1)\n",
    "        zipped_data = [read_one(path) for path in all_img_paths]\n",
    "        zipped_data = [(X, p) if p['crs'] == ref_crs \n",
    "                       else reproject_arr_to_new_crs(X, \n",
    "                                                     p, \n",
    "                                                     ref_crs, \n",
    "                                                     resampling='nearest') \n",
    "                       for (X, p) in zipped_data ]\n",
    "        arrays, profiles_dst = zip(*zipped_data)\n",
    "        arrays = [arr[0, ...] for arr in arrays]\n",
    "        X_m, p_m = merge_arrays_with_geometadata(arrays, \n",
    "                                                 profiles_dst, \n",
    "                                                 resampling='nearest',\n",
    "                                                 method='first')\n",
    "        with rasterio.open(dst_path, 'w', **p_m) as ds:\n",
    "            ds.write(X_m)\n",
    "            if 'status' in layer:\n",
    "                ds.write_colormap(1, cmap)\n",
    "    return dst_path"
   ]
  },
  {
   "cell_type": "code",
   "execution_count": null,
   "id": "c60a8cd7-f524-4c86-82fc-491a1e73d2c8",
   "metadata": {},
   "outputs": [],
   "source": [
    "# merge_one_dir(all_acq_dirs[0], layer='veg-status')"
   ]
  },
  {
   "cell_type": "code",
   "execution_count": null,
   "id": "33f17ef9-e2ee-43d9-842f-cdfa8be4c87f",
   "metadata": {},
   "outputs": [],
   "source": [
    "# dst_paths_veg_status = [merge_one_dir(acq_dir, layer='veg-status') for acq_dir in tqdm(all_acq_dirs)]\n",
    "# dst_paths_veg_date = [merge_one_dir(acq_dir, layer='veg-date') for acq_dir in tqdm(all_acq_dirs)]\n",
    "# dst_paths_gen_status = [merge_one_dir(acq_dir, layer='gen-status') for acq_dir in tqdm(all_acq_dirs)]\n",
    "# dst_paths_gen_date = [merge_one_dir(acq_dir, layer='gen-date') for acq_dir in tqdm(all_acq_dirs)]\n",
    "# dst_paths_veg_status, dst_paths_gen_status"
   ]
  },
  {
   "cell_type": "code",
   "execution_count": null,
   "id": "47a8406e-2d3b-4fe1-8cb5-3d920124197f",
   "metadata": {},
   "outputs": [],
   "source": [
    "merge_inputs = [(acq_dir, layer) for acq_dir in all_acq_dirs for layer in ['veg-status', 'gen-status', 'veg-date', 'gen-date']]\n",
    "\n",
    "with WorkerPool(n_jobs=5, use_dill=True) as pool:\n",
    "    dst_paths = pool.map(\n",
    "        merge_one_dir,\n",
    "        merge_inputs,\n",
    "        progress_bar=True,\\\n",
    "        progress_bar_style=\"std\",\n",
    "    )\n",
    "dst_paths[:3]"
   ]
  },
  {
   "cell_type": "markdown",
   "id": "a2b9b432-3b62-4fd5-8c6e-107a10a294e8",
   "metadata": {},
   "source": [
    "# Reproject TS into single Frame"
   ]
  },
  {
   "cell_type": "code",
   "execution_count": null,
   "id": "17db1f9f-8eba-4081-aaec-3f7f49d4b30c",
   "metadata": {
    "editable": true,
    "slideshow": {
     "slide_type": ""
    },
    "tags": []
   },
   "outputs": [],
   "source": [
    "ts_dir = dist_hls_dir.parent / 'dist_hls_ts_merged'\n",
    "ts_dir.mkdir(exist_ok=True, parents=True)\n",
    "ts_dir"
   ]
  },
  {
   "cell_type": "code",
   "execution_count": null,
   "id": "b021abbf-74db-406b-9449-db59c7a2a115",
   "metadata": {
    "editable": true,
    "slideshow": {
     "slide_type": ""
    },
    "tags": []
   },
   "outputs": [],
   "source": [
    "import shutil\n",
    "from dem_stitcher.rio_tools import reproject_arr_to_match_profile\n",
    "from dem_stitcher.rio_window import get_indices_from_extent\n",
    "from rasterio.warp import transform_bounds\n",
    "from rasterio.transform import xy\n",
    "from affine import Affine\n",
    "\n",
    "def get_idx_with_largest_size(paths: list[Path]) -> int:\n",
    "    def get_size(path: Path) -> int:\n",
    "        with rasterio.open(path) as ds:\n",
    "            m, n = ds.shape\n",
    "\n",
    "        return m * n\n",
    "\n",
    "    sizes = list(map(get_size, paths))\n",
    "    idx = np.argmax(sizes)\n",
    "    return idx\n",
    "\n",
    "def make_cube(paths: list[Path]):\n",
    "    track_number = paths[0].stem.split('_')[2]\n",
    "    date = paths[0].stem.split('_')[3]\n",
    "    \n",
    "    ref_idx = get_idx_with_largest_size(paths)\n",
    "\n",
    "    def get_profile(path: Path) -> dict:\n",
    "        with rasterio.open(path) as ds:\n",
    "            p = ds.profile\n",
    "        return p\n",
    "\n",
    "    profiles = list(map(get_profile, paths))\n",
    "    ref_profile = profiles[ref_idx]\n",
    "\n",
    "    def align_for_cube(path, prof):\n",
    "        out_path = ts_dir / path.name\n",
    "        cond0 = (prof['transform'] == ref_profile['transform'])\n",
    "        cond1 = (prof['width'] == ref_profile['width'])\n",
    "        cond2 = (prof['height'] == ref_profile['height'])\n",
    "        cond3 = (prof['crs'] == ref_profile['crs'])\n",
    "            \n",
    "        p_r = prof.copy()\n",
    "        if not (cond0 and cond1 and cond2 and cond3):\n",
    "            with rasterio.open(path) as ds:\n",
    "                X = ds.read(1)\n",
    "                if 'status' in path.stem.lower():\n",
    "                    cmap = ds.colormap(1)\n",
    "            X_r, p_r = reproject_arr_to_match_profile(X, prof, ref_profile)\n",
    "            X_r = X_r[0, ...]\n",
    "            \n",
    "            with rasterio.open(out_path, 'w', **p_r) as ds:\n",
    "                ds.write(X_r, 1)\n",
    "                if 'status' in path.stem.lower():\n",
    "                    ds.write_colormap(1, cmap)\n",
    "        else:\n",
    "            shutil.copy(path, out_path)\n",
    "        return out_path\n",
    "    cube_inputs = list(zip(paths, profiles))\n",
    "    #cube_paths = [align_for_cube(*inp) for inp in cube_inputs]\n",
    "    with WorkerPool(n_jobs=5, use_dill=True) as pool:\n",
    "        cube_paths = pool.map(\n",
    "            align_for_cube,\n",
    "            cube_inputs,\n",
    "            progress_bar=True,\\\n",
    "            progress_bar_style=\"std\",\n",
    "            )\n",
    "    return cube_paths"
   ]
  },
  {
   "cell_type": "code",
   "execution_count": null,
   "id": "d86da72b-c435-4f8c-9e14-c559ff88ebc2",
   "metadata": {},
   "outputs": [],
   "source": [
    "%%time\n",
    "\n",
    "cube_paths = sorted(make_cube(dst_paths))\n",
    "cube_paths[:4]"
   ]
  },
  {
   "cell_type": "markdown",
   "id": "25db024c-e5ce-4852-a51f-7abd6f3d7972",
   "metadata": {},
   "source": [
    "# Divide paths"
   ]
  },
  {
   "cell_type": "code",
   "execution_count": null,
   "id": "db65c618-4a93-4149-8ae3-f5a3fefa3dff",
   "metadata": {},
   "outputs": [],
   "source": [
    "merged_veg_status = [p for p in cube_paths if 'veg-status' in p.stem]\n",
    "merged_gen_status = [p for p in cube_paths if 'gen-status' in p.stem]\n",
    "\n",
    "merged_veg_date = [p for p in cube_paths if 'veg-date' in p.stem]\n",
    "merged_gen_date = [p for p in cube_paths if 'gen-date' in p.stem]"
   ]
  },
  {
   "cell_type": "markdown",
   "id": "1f535155-8771-42ae-aba6-ce7908db1df4",
   "metadata": {},
   "source": [
    "# Make Change Map"
   ]
  },
  {
   "cell_type": "code",
   "execution_count": null,
   "id": "4e0f31bf-ed05-4b09-9fb8-e859a94f8c40",
   "metadata": {},
   "outputs": [],
   "source": [
    "change_dir = Path('out') / event_dict['event_name'] / 'change_map_dist_hls'\n",
    "change_dir.mkdir(exist_ok=True, parents=True)"
   ]
  },
  {
   "cell_type": "code",
   "execution_count": null,
   "id": "9e23df2a-4f43-4cbb-8d3f-39eb241630c3",
   "metadata": {},
   "outputs": [],
   "source": [
    "from dateparser import parse\n",
    "acq_dt_hls = [parse(p.stem.split('__')[1]) for p in merged_veg_status]\n",
    "acq_dt_hls[:3]"
   ]
  },
  {
   "cell_type": "markdown",
   "id": "0ff17a17-b251-4bed-ad8b-14e757af02e6",
   "metadata": {},
   "source": [
    "## Change Maps from Provisional Alert"
   ]
  },
  {
   "cell_type": "code",
   "execution_count": null,
   "id": "b8fed4e7-2f2f-41bb-a916-a1958fe1e170",
   "metadata": {},
   "outputs": [],
   "source": [
    "N_ACQS = 4"
   ]
  },
  {
   "cell_type": "code",
   "execution_count": null,
   "id": "4f85e3e3-614d-486b-b3df-a93bda2ca0af",
   "metadata": {},
   "outputs": [],
   "source": [
    "PROVISIONAL_CHANGE_MAP_IDXS = [k for (k, dt) in enumerate(acq_dt_hls) if dt > EVENT_DT][:N_ACQS]\n",
    "PROVISIONAL_CHANGE_MAP_IDXS, [acq_dt_hls[k] for k in PROVISIONAL_CHANGE_MAP_IDXS]"
   ]
  },
  {
   "cell_type": "code",
   "execution_count": null,
   "id": "6e983ce4-d83c-4090-973f-942ae4b13448",
   "metadata": {},
   "outputs": [],
   "source": [
    "CONFIRMED_LABELS = [3, 6, 7, 8] # 7 and 8 are finished\n",
    "PROV_LABELS = [1, 2, 4, 5]"
   ]
  },
  {
   "cell_type": "code",
   "execution_count": null,
   "id": "94b7968e-28bc-4e45-8260-380365eeb9bb",
   "metadata": {},
   "outputs": [],
   "source": [
    "for data_list, change_token in zip([merged_veg_status, merged_gen_status], ['veg', 'gen']):\n",
    "    profiles = []\n",
    "    change_arrays = []\n",
    "    for idx in PROVISIONAL_CHANGE_MAP_IDXS:\n",
    "        with rasterio.open(data_list[idx]) as ds:\n",
    "            X_status_prov = ds.read(1)\n",
    "            p = ds.profile\n",
    "\n",
    "\n",
    "        with rasterio.open(data_list_date[idx]) as ds:\n",
    "            X_date = ds.read(1)\n",
    "    \n",
    "        confirmed_event_day_val = (EVENT_DT - datetime.datetime(2020, 12, 31)).days        \n",
    "        # I am adding a 1 day buffer to the confirmed day boolean index\n",
    "        date_threshold = confirmed_event_day_val - 7\n",
    "                \n",
    "        X_change_prov = np.zeros(X_status_prov.shape)\n",
    "    \n",
    "        X_change_prov[np.isin(X_status_prov, PROV_LABELS)] = 1\n",
    "        X_change_prov[np.isin(X_status_con, CONFIRMED_LABELS) & (X_date >= date_threshold)] = 1\n",
    "        X_change_prov[np.isin(X_status_con, CONFIRMED_LABELS) & (X_date < date_threshold)] = 255\n",
    "        X_change_prov[X_status_prov == 255] = 255\n",
    "\n",
    "        p['nodata'] = 255\n",
    "        profiles.append(p)\n",
    "        change_arrays.append(X_change_prov)\n",
    "\n",
    "    X_change_prov_m, p_m = merge_arrays_with_geometadata(change_arrays, profiles, method='max')\n",
    "\n",
    "    out_path = change_dir / f'dist_hls_provisional_change_map_{change_token}_first{str(acq_dt_hls[PROVISIONAL_CHANGE_MAP_IDXS[0]].date())}.tif'\n",
    "    print(out_path)\n",
    "    with rasterio.open(out_path, 'w', **p_m) as ds:\n",
    "        ds.write(X_change_prov_m.astype(np.uint8))\n",
    "    "
   ]
  },
  {
   "cell_type": "code",
   "execution_count": null,
   "id": "64d31c77-b013-4282-bf3c-cfff01bf8802",
   "metadata": {},
   "outputs": [],
   "source": [
    "X_change_prov_p = X_change_prov.copy()\n",
    "X_change_prov_p[X_change_prov_p == 255] = np.nan\n",
    "plt.imshow(X_change_prov_p, vmin=0, vmax=1, interpolation='none')"
   ]
  },
  {
   "cell_type": "markdown",
   "id": "30c6ba61-7e28-4dc6-9f06-0b0a536e50cb",
   "metadata": {},
   "source": [
    "## Confirmed Change Map"
   ]
  },
  {
   "cell_type": "code",
   "execution_count": null,
   "id": "cb60ace1-6c0c-4ae3-8335-9445db4ba77b",
   "metadata": {},
   "outputs": [],
   "source": [
    "min_days = event_dict['dist_hls_confirmed_change_min_days']\n",
    "min_days"
   ]
  },
  {
   "cell_type": "code",
   "execution_count": null,
   "id": "140d2531-01c6-4b1c-8cf6-19f8e2bdbc6c",
   "metadata": {},
   "outputs": [],
   "source": [
    "acq_dt_hls"
   ]
  },
  {
   "cell_type": "code",
   "execution_count": null,
   "id": "5dd32319-6797-4bb8-abef-5424344604c8",
   "metadata": {},
   "outputs": [],
   "source": [
    "CHANGE_MAP_CONFIRMED_IDXS = [k for (k, dt) in enumerate(acq_dt_hls) if dt > (EVENT_DT + datetime.timedelta(min_days))][-N_ACQS:]\n",
    "CHANGE_MAP_CONFIRMED_IDXS, [acq_dt_hls[k] for k in CHANGE_MAP_CONFIRMED_IDXS]"
   ]
  },
  {
   "cell_type": "code",
   "execution_count": null,
   "id": "d13a688f-85a7-4569-a6c8-d62232d45694",
   "metadata": {},
   "outputs": [],
   "source": [
    "for data_list_status, data_list_date, change_token in zip([merged_veg_status, merged_gen_status], \n",
    "                                          [merged_veg_date, merged_gen_date],\n",
    "                                          ['veg', 'gen']):\n",
    "    profiles = []\n",
    "    change_arrays = []\n",
    "    for idx in CHANGE_MAP_CONFIRMED_IDXS:\n",
    "    \n",
    "        with rasterio.open(data_list_status[idx]) as ds:\n",
    "            X_status_con = ds.read(1)\n",
    "            p = ds.profile\n",
    "    \n",
    "        with rasterio.open(data_list_date[idx]) as ds:\n",
    "            X_date = ds.read(1)\n",
    "    \n",
    "        confirmed_event_day_val = (EVENT_DT - datetime.datetime(2020, 12, 31)).days\n",
    "        X_change_con = np.zeros(X_status_con.shape)\n",
    "        \n",
    "        # I am adding a 1 day buffer to the confirmed day boolean index\n",
    "        date_threshold = confirmed_event_day_val - 7\n",
    "        X_change_con[np.isin(X_status_con, CONFIRMED_LABELS) & (X_date >= date_threshold)] = 1\n",
    "        # No data for earlier confirmed changes\n",
    "        X_change_con[np.isin(X_status_con, CONFIRMED_LABELS) & (X_date < date_threshold)] = 255\n",
    "        # No data for provisional changes being seen\n",
    "        prov_change_labels = [1, 2, 3, 5]\n",
    "        X_change_con[np.isin(X_status_con, PROV_LABELS)] = 255\n",
    "        \n",
    "        X_change_con[X_status_con == 255] = 255\n",
    "\n",
    "        profiles.append(p)\n",
    "        change_arrays.append(X_change_con)\n",
    "\n",
    "    X_change_con_m, p_m = merge_arrays_with_geometadata(change_arrays, profiles, method='max')\n",
    "\n",
    "\n",
    "    out_path = change_dir / f'dist_hls_confirmed_change_map_{change_token}_first{str(acq_dt_hls[CHANGE_MAP_CONFIRMED_IDXS[0]].date())}.tif'\n",
    "    print(out_path)\n",
    "    with rasterio.open(out_path, 'w', **p) as ds:\n",
    "        ds.write(X_change_con_m.astype(np.uint8))\n",
    "    "
   ]
  },
  {
   "cell_type": "code",
   "execution_count": null,
   "id": "1f82ca45-2d41-46f0-b033-81383755bfcb",
   "metadata": {},
   "outputs": [],
   "source": [
    "# Latest plot to show what we are looking at\n",
    "plt.imshow(X_status_con, \n",
    "           interpolation='none')\n",
    "plt.colorbar()"
   ]
  },
  {
   "cell_type": "code",
   "execution_count": null,
   "id": "e1dc3abb-e1b0-4f66-be8f-5257e49bd97a",
   "metadata": {},
   "outputs": [],
   "source": [
    "X_change_con_m_p = X_change_con_m.astype(np.float32)\n",
    "X_change_con_m_p[X_change_con_m == 255] = np.nan\n",
    "plt.imshow(X_change_con_m_p[0, ...], \n",
    "           vmin=0, vmax=1, \n",
    "           interpolation='none')\n",
    "plt.colorbar()"
   ]
  },
  {
   "cell_type": "markdown",
   "id": "c5265537-ee15-4fc0-b745-0b23a2a26278",
   "metadata": {},
   "source": [
    "# Remove DIST-HLS files"
   ]
  },
  {
   "cell_type": "code",
   "execution_count": null,
   "id": "d312c861-d0e8-4d58-ac57-c71ab3709678",
   "metadata": {},
   "outputs": [],
   "source": [
    "ts_dir, dist_hls_dir"
   ]
  },
  {
   "cell_type": "code",
   "execution_count": null,
   "id": "36866840-c07f-4c88-aacc-9e4a8636b400",
   "metadata": {},
   "outputs": [],
   "source": [
    "shutil.rmtree(ts_dir)\n",
    "shutil.rmtree(dist_hls_dir)"
   ]
  }
 ],
 "metadata": {
  "kernelspec": {
   "display_name": "dist-s1",
   "language": "python",
   "name": "dist-s1"
  },
  "language_info": {
   "codemirror_mode": {
    "name": "ipython",
    "version": 3
   },
   "file_extension": ".py",
   "mimetype": "text/x-python",
   "name": "python",
   "nbconvert_exporter": "python",
   "pygments_lexer": "ipython3",
   "version": "3.12.4"
  }
 },
 "nbformat": 4,
 "nbformat_minor": 5
}
