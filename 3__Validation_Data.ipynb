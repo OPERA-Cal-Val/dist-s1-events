{
 "cells": [
  {
   "cell_type": "code",
   "execution_count": 1,
   "id": "f4fe73b3-0e81-43ff-93d3-3af0b0826732",
   "metadata": {
    "editable": true,
    "slideshow": {
     "slide_type": ""
    },
    "tags": []
   },
   "outputs": [],
   "source": [
    "import geopandas as gpd\n",
    "import rasterio\n",
    "from rasterize import rasterize_shapes_to_array\n",
    "import numpy as np\n",
    "import matplotlib.pyplot as plt\n",
    "from pathlib import Path\n",
    "import yaml\n",
    "import pandas as pd\n",
    "from rasterio.crs import CRS"
   ]
  },
  {
   "cell_type": "markdown",
   "id": "b9fa2215-ab59-4abe-9bf8-68a567fc8b35",
   "metadata": {
    "editable": true,
    "slideshow": {
     "slide_type": ""
    },
    "tags": []
   },
   "source": [
    "# Parameters"
   ]
  },
  {
   "cell_type": "code",
   "execution_count": 2,
   "id": "ea797d56-7b0c-4136-980b-a0cdf1cb7d8a",
   "metadata": {
    "editable": true,
    "slideshow": {
     "slide_type": ""
    },
    "tags": [
     "parameters"
    ]
   },
   "outputs": [],
   "source": [
    "EVENT_NAME = 'brazzaville_flood_and_landslides_2024'"
   ]
  },
  {
   "cell_type": "markdown",
   "id": "c0a8bfad-8620-4bc0-8327-4419da68f031",
   "metadata": {
    "editable": true,
    "slideshow": {
     "slide_type": ""
    },
    "tags": []
   },
   "source": [
    "# Read Yaml"
   ]
  },
  {
   "cell_type": "code",
   "execution_count": 3,
   "id": "0c3586e9-fb2f-4bfd-97d0-5ab8c944e5a9",
   "metadata": {
    "editable": true,
    "slideshow": {
     "slide_type": ""
    },
    "tags": []
   },
   "outputs": [],
   "source": [
    "yaml_file = f'events/{EVENT_NAME}.yml' #'porto_algre.yml'"
   ]
  },
  {
   "cell_type": "code",
   "execution_count": 4,
   "id": "4f89f9ac-18bd-4c15-8251-7e1aae3d8244",
   "metadata": {
    "editable": true,
    "slideshow": {
     "slide_type": ""
    },
    "tags": []
   },
   "outputs": [
    {
     "data": {
      "text/plain": [
       "{'event_name': 'brazzaville_flood_and_landslides_2024',\n",
       " 'bounds': [15.19418162, -4.31842285, 15.31481366, -4.13558505],\n",
       " 'event_date': '2024-02-08',\n",
       " 'pre_event_window_days': 100,\n",
       " 'post_event_window_days': 60,\n",
       " 'rtc_track_numbers': [7, 109],\n",
       " 'mgrs_tiles': ['33MWR'],\n",
       " 'dist_hls_confirmed_change_min_days': 30,\n",
       " 'source_id': 'UNOSAT via humanitarian data exchange - derived from WV2_20240208',\n",
       " 'links': ['2024 and 2023 combined: https://data.humdata.org/dataset/water-and-landslide-mudflow-extents-in-brazzaville-department-republic-of-congo-as-of-8-fe',\n",
       "  '2023: https://data.humdata.org/dataset/water-and-landslide-mudflow-extents-in-brazzaville-and-pool-departments-republic-of-congo-',\n",
       "  '2024: https://global-flood.emergency.copernicus.eu/news/159-flooding-in-the-democratic-republic-of-the-congo-and-congo-brazzaville-january-2024']}"
      ]
     },
     "execution_count": 4,
     "metadata": {},
     "output_type": "execute_result"
    }
   ],
   "source": [
    "with open(yaml_file) as f:\n",
    "    event_dict = yaml.safe_load(f)[\"event\"]\n",
    "event_dict"
   ]
  },
  {
   "cell_type": "code",
   "execution_count": 5,
   "id": "08138119-92db-47c1-b4be-a7ad9732646f",
   "metadata": {},
   "outputs": [],
   "source": [
    "p_json = Path(f'external_validation_data_db/{event_dict[\"event_name\"]}.geojson')\n",
    "p_parq = Path(f'external_validation_data_db/{event_dict[\"event_name\"]}.parquet')\n",
    "if p_json.exists():\n",
    "    df_event = gpd.read_file(p_json)\n",
    "else:\n",
    "    df_event = gpd.read_parquet(p_parq)"
   ]
  },
  {
   "cell_type": "code",
   "execution_count": 6,
   "id": "d4aea86c-28cf-4053-a552-1d65c58d31ae",
   "metadata": {},
   "outputs": [
    {
     "data": {
      "text/html": [
       "<div>\n",
       "<style scoped>\n",
       "    .dataframe tbody tr th:only-of-type {\n",
       "        vertical-align: middle;\n",
       "    }\n",
       "\n",
       "    .dataframe tbody tr th {\n",
       "        vertical-align: top;\n",
       "    }\n",
       "\n",
       "    .dataframe thead th {\n",
       "        text-align: right;\n",
       "    }\n",
       "</style>\n",
       "<table border=\"1\" class=\"dataframe\">\n",
       "  <thead>\n",
       "    <tr style=\"text-align: right;\">\n",
       "      <th></th>\n",
       "      <th>name</th>\n",
       "      <th>date</th>\n",
       "      <th>source_id</th>\n",
       "      <th>geometry</th>\n",
       "    </tr>\n",
       "  </thead>\n",
       "  <tbody>\n",
       "    <tr>\n",
       "      <th>0</th>\n",
       "      <td>brazzaville_flood_and_landslides_2024</td>\n",
       "      <td>2024-02-08</td>\n",
       "      <td>UNOSAT via humanitarian data exchange</td>\n",
       "      <td>MULTIPOLYGON (((15.20227 -4.24301, 15.20226 -4...</td>\n",
       "    </tr>\n",
       "    <tr>\n",
       "      <th>1</th>\n",
       "      <td>brazzaville_flood_and_landslides_2024</td>\n",
       "      <td>2024-02-08</td>\n",
       "      <td>UNOSAT via humanitarian data exchange</td>\n",
       "      <td>MULTIPOLYGON (((15.20338 -4.3184, 15.20329 -4....</td>\n",
       "    </tr>\n",
       "  </tbody>\n",
       "</table>\n",
       "</div>"
      ],
      "text/plain": [
       "                                    name       date  \\\n",
       "0  brazzaville_flood_and_landslides_2024 2024-02-08   \n",
       "1  brazzaville_flood_and_landslides_2024 2024-02-08   \n",
       "\n",
       "                               source_id  \\\n",
       "0  UNOSAT via humanitarian data exchange   \n",
       "1  UNOSAT via humanitarian data exchange   \n",
       "\n",
       "                                            geometry  \n",
       "0  MULTIPOLYGON (((15.20227 -4.24301, 15.20226 -4...  \n",
       "1  MULTIPOLYGON (((15.20338 -4.3184, 15.20329 -4....  "
      ]
     },
     "execution_count": 6,
     "metadata": {},
     "output_type": "execute_result"
    }
   ],
   "source": [
    "df_event.head()"
   ]
  },
  {
   "cell_type": "code",
   "execution_count": 7,
   "id": "41a5b8d4-2fb0-4e65-9d13-e3cec14745fb",
   "metadata": {},
   "outputs": [],
   "source": [
    "change_dir_hls = Path('out') / event_dict['event_name'] / 'change_map_dist_hls'\n",
    "change_dir_hls.mkdir(exist_ok=True, parents=True)\n",
    "change_map_tif = list(change_dir_hls.glob('*.tif'))[0]\n",
    "\n",
    "with rasterio.open(change_map_tif) as ds:\n",
    "    ref_profile = ds.profile\n",
    "    ref_crs = ds.crs"
   ]
  },
  {
   "cell_type": "code",
   "execution_count": 8,
   "id": "250b4aa0-cd21-4f40-81c1-d54507479687",
   "metadata": {},
   "outputs": [],
   "source": [
    "df_event_utm = df_event.to_crs(ref_crs)"
   ]
  },
  {
   "cell_type": "code",
   "execution_count": 18,
   "id": "a06ec224-db64-4794-b4eb-3f0cfc60abeb",
   "metadata": {},
   "outputs": [],
   "source": [
    "external_data_dir = Path(f'out/{event_dict[\"event_name\"]}/validation_data')\n",
    "external_data_dir.mkdir(exist_ok=True, parents=True)\n",
    "\n",
    "X_val_rtc = rasterize_shapes_to_array(df_event_utm.geometry.tolist(), np.ones(df_event_utm.shape[0]), ref_profile, all_touched=True, dtype='uint8')\n",
    "\n",
    "external_data_prof = ref_profile.copy()\n",
    "external_data_prof['dtype'] = 'uint8'\n",
    "external_data_prof['nodata'] = 255\n",
    "\n",
    "event_name = event_dict['event_name']\n",
    "source_id = event_dict.get('source_id', df_event_utm.source_id[0]) \n",
    "source_id = source_id.replace(' ', '_').lower()\n",
    "source_id = source_id.replace('.', '_')\n",
    "with rasterio.open(external_data_dir / f'{event_name}_{source_id}.tif', 'w', **external_data_prof) as ds:\n",
    "    ds.write(X_val_rtc, 1)"
   ]
  },
  {
   "cell_type": "code",
   "execution_count": 19,
   "id": "70b72a9b-80fe-4aec-9eb6-48f665b8c1a8",
   "metadata": {},
   "outputs": [
    {
     "data": {
      "text/plain": [
       "<matplotlib.image.AxesImage at 0x7f938860ed50>"
      ]
     },
     "execution_count": 19,
     "metadata": {},
     "output_type": "execute_result"
    },
    {
     "data": {
      "image/png": "[encoded data removed]",
      "text/plain": [
       "<Figure size 640x480 with 1 Axes>"
      ]
     },
     "metadata": {},
     "output_type": "display_data"
    }
   ],
   "source": [
    "plt.imshow(X_val_rtc, interpolation='none')"
   ]
  },
  {
   "cell_type": "markdown",
   "id": "51669c20-58cd-40d4-9711-4c1b37345c15",
   "metadata": {},
   "source": [
    "# Extent"
   ]
  },
  {
   "cell_type": "code",
   "execution_count": 20,
   "id": "f11ba636-d475-4ccc-b3eb-6f69507e1720",
   "metadata": {},
   "outputs": [
    {
     "data": {
      "text/plain": [
       "<Axes: >"
      ]
     },
     "execution_count": 20,
     "metadata": {},
     "output_type": "execute_result"
    },
    {
     "data": {
      "image/png": "[encoded data removed]",
      "text/plain": [
       "<Figure size 640x480 with 1 Axes>"
      ]
     },
     "metadata": {},
     "output_type": "display_data"
    }
   ],
   "source": [
    "df_aoi = gpd.read_file(f'external_validation_data_extents_db/{event_dict[\"event_name\"]}.geojson')\n",
    "df_aoi.plot()"
   ]
  },
  {
   "cell_type": "code",
   "execution_count": 21,
   "id": "531df5d0-a9ae-4bd3-b137-270f7b96ccdf",
   "metadata": {},
   "outputs": [],
   "source": [
    "df_aoi_utm = df_aoi.to_crs(ref_crs)"
   ]
  },
  {
   "cell_type": "code",
   "execution_count": 23,
   "id": "2e570b39-ea78-434c-bd9a-ea8d23cf18c1",
   "metadata": {},
   "outputs": [],
   "source": [
    "\n",
    "X_aoi = rasterize_shapes_to_array(df_aoi_utm.geometry.tolist(), np.ones(df_aoi_utm.shape[0]), ref_profile, all_touched=True, dtype='uint8')\n",
    "\n",
    "external_data_aoi_prof = ref_profile.copy()\n",
    "external_data_aoi_prof['dtype'] = 'uint8'\n",
    "external_data_aoi_prof['nodata'] = 255\n",
    "\n",
    "event_name = event_dict['event_name']\n",
    "source_id = event_dict.get('source_id', df_event_utm.source_id[0]) \n",
    "source_id = source_id.replace(' ', '_').lower()\n",
    "source_id = source_id.replace('.', '_')\n",
    "with rasterio.open(external_data_dir / f'EXTENT_DATA_MASK_{event_name}.tif', 'w', **external_data_aoi_prof) as ds:\n",
    "    ds.write(X_aoi, 1)"
   ]
  },
  {
   "cell_type": "code",
   "execution_count": 24,
   "id": "6ebe058a-d201-4751-bf1a-ebfc0fc19c2a",
   "metadata": {},
   "outputs": [
    {
     "data": {
      "text/plain": [
       "<matplotlib.image.AxesImage at 0x7f9388b70fe0>"
      ]
     },
     "execution_count": 24,
     "metadata": {},
     "output_type": "execute_result"
    },
    {
     "data": {
      "image/png": "[encoded data removed]",
      "text/plain": [
       "<Figure size 640x480 with 1 Axes>"
      ]
     },
     "metadata": {},
     "output_type": "display_data"
    }
   ],
   "source": [
    "plt.imshow(X_aoi)"
   ]
  }
 ],
 "metadata": {
  "kernelspec": {
   "display_name": "dist-s1",
   "language": "python",
   "name": "dist-s1"
  },
  "language_info": {
   "codemirror_mode": {
    "name": "ipython",
    "version": 3
   },
   "file_extension": ".py",
   "mimetype": "text/x-python",
   "name": "python",
   "nbconvert_exporter": "python",
   "pygments_lexer": "ipython3",
   "version": "3.12.5"
  }
 },
 "nbformat": 4,
 "nbformat_minor": 5
}
